{
  "nbformat": 4,
  "nbformat_minor": 0,
  "metadata": {
    "colab": {
      "provenance": [],
      "authorship_tag": "ABX9TyPOdYVzplhhiHEzErDsq8Z7",
      "include_colab_link": true
    },
    "kernelspec": {
      "name": "python3",
      "display_name": "Python 3"
    },
    "language_info": {
      "name": "python"
    }
  },
  "cells": [
    {
      "cell_type": "markdown",
      "metadata": {
        "id": "view-in-github",
        "colab_type": "text"
      },
      "source": [
        "<a href=\"https://colab.research.google.com/github/kaushikykk/scaler/blob/main/python_variables.ipynb\" target=\"_parent\"><img src=\"https://colab.research.google.com/assets/colab-badge.svg\" alt=\"Open In Colab\"/></a>"
      ]
    },
    {
      "cell_type": "code",
      "source": [
        "from google.colab import auth\n",
        "auth.authenticate_user()\n",
        "!git clone https://github.com/kaushikykk/scaler.git"
      ],
      "metadata": {
        "colab": {
          "base_uri": "https://localhost:8080/"
        },
        "id": "EsOQDdwyi9KD",
        "outputId": "57d7bcc9-3a7f-4212-c21f-aa7559b9db63"
      },
      "execution_count": null,
      "outputs": [
        {
          "output_type": "stream",
          "name": "stdout",
          "text": [
            "fatal: destination path 'scaler' already exists and is not an empty directory.\n"
          ]
        }
      ]
    },
    {
      "cell_type": "code",
      "execution_count": null,
      "metadata": {
        "id": "ddlxmJnMuaSu",
        "colab": {
          "base_uri": "https://localhost:8080/"
        },
        "outputId": "cb7261ba-074e-4c3e-b6b0-33582fa0d21c"
      },
      "outputs": [
        {
          "output_type": "stream",
          "name": "stdout",
          "text": [
            "please enter the amount to be withdrawn - Rs. 1800\n",
            "available\n"
          ]
        }
      ],
      "source": [
        " w = int(input(\"please enter the amount to be withdrawn - Rs. \"))\n",
        "if (w < 200):\n",
        "  print( \"it should be 200 or more\")\n",
        "elif (w > 200 and w < 500):\n",
        "  print(\"your number is between 200 and 500, please pick multiples of 2 and 5\")\n",
        "elif (w%5 == 0):\n",
        "  print(\"available\")\n",
        "else:\n",
        "  print(\"enter amount in multiples 500 or 200\")"
      ]
    },
    {
      "cell_type": "code",
      "source": [],
      "metadata": {
        "id": "wz5XjbWdi4RA"
      },
      "execution_count": null,
      "outputs": []
    },
    {
      "cell_type": "code",
      "source": [],
      "metadata": {
        "id": "vmuEjpvL-EfK"
      },
      "execution_count": null,
      "outputs": []
    },
    {
      "cell_type": "code",
      "source": [
        "A = int(input(\"Please give number for angle A \"))\n",
        "B = int(input(\"Please give number for angle B \"))\n",
        "C = int(input(\"Please give number for angle C \"))\n",
        "\n",
        "z = A+B+C\n",
        "if(z == 0):\n",
        "  print(\"All angles are zero\")\n",
        "elif (z < 180):\n",
        "  print(\"Less than 180 for  a triangle\")\n",
        "elif(z > 180):\n",
        "  print(\"more than 180 for a triangle\")\n",
        "else:\n",
        "  print(\"Its a triangle\")\n",
        "\n"
      ],
      "metadata": {
        "colab": {
          "base_uri": "https://localhost:8080/"
        },
        "id": "Y3wJ8K7Vu6Kt",
        "outputId": "e11f83ca-e1ba-486d-c00a-f9c2f14a0962"
      },
      "execution_count": null,
      "outputs": [
        {
          "output_type": "stream",
          "name": "stdout",
          "text": [
            "Please give number for angle A 60\n",
            "Please give number for angle B 60\n",
            "Please give number for angle C 60\n",
            "Its a triangle\n"
          ]
        }
      ]
    },
    {
      "cell_type": "code",
      "source": [
        "a1 = int(input())\n",
        "a2 = int(input())\n",
        "b1 = int(input())\n",
        "b2 = int(input())\n",
        "\n",
        "avg_A = (a1 + a1)/2\n",
        "avg_B = (b1 + b2)/2\n",
        "\n",
        "if avg_A > avg_B:\n",
        "    print (\"True\")\n",
        "else:\n",
        "    print(\"False\")\n",
        "\n"
      ],
      "metadata": {
        "colab": {
          "base_uri": "https://localhost:8080/"
        },
        "id": "T5ty_qyWiN5D",
        "outputId": "193b712a-da2a-4e84-bd4e-1546e56342cd"
      },
      "execution_count": null,
      "outputs": [
        {
          "output_type": "stream",
          "name": "stdout",
          "text": [
            "54\n",
            "99\n",
            "77\n",
            "90\n",
            "False\n"
          ]
        }
      ]
    },
    {
      "cell_type": "code",
      "source": [
        "import numpy as np\n",
        "a = [5,7,0.5]\n",
        "\n",
        "a = np.array([5,7,0.5])"
      ],
      "metadata": {
        "id": "FNyJAtIW-GtT"
      },
      "execution_count": null,
      "outputs": []
    },
    {
      "cell_type": "code",
      "source": [
        "import numpy as np\n",
        "x = np.array([-5, 9 , 20 , 25, -3, 5, 16, 10,-8])\n",
        "(x <= 15)\n",
        "print(x)"
      ],
      "metadata": {
        "colab": {
          "base_uri": "https://localhost:8080/"
        },
        "id": "3KGd3BwHCQvy",
        "outputId": "f68b0f84-7b56-4bbb-aca2-cadda13df75e"
      },
      "execution_count": null,
      "outputs": [
        {
          "output_type": "stream",
          "name": "stdout",
          "text": [
            "[-5  9 20 25 -3  5 16 10 -8]\n"
          ]
        }
      ]
    },
    {
      "cell_type": "code",
      "source": [
        "import numpy as np\n",
        "x = np.array([-5, 9 , 20 , 25, -3, 5, 16, 10,-8])\n",
        "x[(x >= -5) ]\n",
        "print(x)"
      ],
      "metadata": {
        "colab": {
          "base_uri": "https://localhost:8080/"
        },
        "id": "NfThfOioDbpB",
        "outputId": "8f2eb62a-1614-4441-c24f-983d15503d41"
      },
      "execution_count": null,
      "outputs": [
        {
          "output_type": "stream",
          "name": "stdout",
          "text": [
            "[-5  9 20 25 -3  5 16 10 -8]\n"
          ]
        }
      ]
    },
    {
      "cell_type": "code",
      "source": [
        "import numpy as np\n",
        "x = np.array([-5, 9 , 20 , 25, -3, 5, 16, 10,-8])\n",
        "x[(x >= -5)  & (x <= 15)] *= -1\n",
        "print(x)"
      ],
      "metadata": {
        "id": "1PHvDXmKDzNH"
      },
      "execution_count": null,
      "outputs": []
    },
    {
      "cell_type": "code",
      "source": [
        "x = 1\n",
        "n = int(input())\n",
        "while x<=n:\n",
        "  print(x)\n",
        "  x += 2"
      ],
      "metadata": {
        "colab": {
          "base_uri": "https://localhost:8080/"
        },
        "id": "4mzo0Xdq9EHc",
        "outputId": "ce061844-7b39-451e-e582-de343f89bf25"
      },
      "execution_count": null,
      "outputs": [
        {
          "output_type": "stream",
          "name": "stdout",
          "text": [
            "10\n",
            "1\n",
            "3\n",
            "5\n",
            "7\n",
            "9\n"
          ]
        }
      ]
    },
    {
      "cell_type": "code",
      "source": [
        "s = int(input())\n",
        "e = int(input())\n",
        "count = s\n",
        "x = []\n",
        "\n",
        "while s <= e:\n",
        "  if s % 2 == 0:\n",
        "    print(s, \"is even\")\n",
        "\n",
        "  s +=1\n",
        "\n",
        "\n",
        "\n"
      ],
      "metadata": {
        "colab": {
          "base_uri": "https://localhost:8080/"
        },
        "id": "qZdGFSUAD0BW",
        "outputId": "d4d97c10-1cd9-48b4-b56d-592a7226d18b"
      },
      "execution_count": null,
      "outputs": [
        {
          "output_type": "stream",
          "name": "stdout",
          "text": [
            "7\n",
            "8\n",
            "8 is even\n"
          ]
        }
      ]
    },
    {
      "cell_type": "code",
      "source": [
        "import numpy as np\n",
        "\n",
        "m1 = np.array([[1,2,3],[3,4,5]])\n",
        "\n",
        "m1.shape\n",
        "m1.ndim\n"
      ],
      "metadata": {
        "colab": {
          "base_uri": "https://localhost:8080/"
        },
        "id": "-0Zz4pjxIFNm",
        "outputId": "aad84bf8-d7f3-49df-e35a-887be82a6cd3"
      },
      "execution_count": null,
      "outputs": [
        {
          "output_type": "execute_result",
          "data": {
            "text/plain": [
              "2"
            ]
          },
          "metadata": {},
          "execution_count": 9
        }
      ]
    },
    {
      "cell_type": "code",
      "source": [
        "m2 = np.arange(2,6)\n",
        "m2.ndim\n",
        "m2.flatten()\n"
      ],
      "metadata": {
        "colab": {
          "base_uri": "https://localhost:8080/"
        },
        "id": "jRmeAhJ2VHSX",
        "outputId": "9810636d-ec59-459b-cf8d-6f69444733f9"
      },
      "execution_count": null,
      "outputs": [
        {
          "output_type": "execute_result",
          "data": {
            "text/plain": [
              "array([2, 3, 4, 5])"
            ]
          },
          "metadata": {},
          "execution_count": 29
        }
      ]
    },
    {
      "cell_type": "code",
      "source": [
        "# Indexing 2D list"
      ],
      "metadata": {
        "id": "5rP_15GkaGGH"
      },
      "execution_count": null,
      "outputs": []
    },
    {
      "cell_type": "code",
      "source": [
        "m3 = np.arange(1, 12)\n",
        "m3[(2,6)]"
      ],
      "metadata": {
        "colab": {
          "base_uri": "https://localhost:8080/",
          "height": 162
        },
        "id": "tLsC796hajeE",
        "outputId": "230f7063-2cd4-44b9-d799-805cecaa9cf5"
      },
      "execution_count": null,
      "outputs": [
        {
          "output_type": "error",
          "ename": "IndexError",
          "evalue": "too many indices for array: array is 1-dimensional, but 2 were indexed",
          "traceback": [
            "\u001b[0;31m---------------------------------------------------------------------------\u001b[0m",
            "\u001b[0;31mIndexError\u001b[0m                                Traceback (most recent call last)",
            "\u001b[0;32m<ipython-input-33-882cde323cf7>\u001b[0m in \u001b[0;36m<cell line: 2>\u001b[0;34m()\u001b[0m\n\u001b[1;32m      1\u001b[0m \u001b[0mm3\u001b[0m \u001b[0;34m=\u001b[0m \u001b[0mnp\u001b[0m\u001b[0;34m.\u001b[0m\u001b[0marange\u001b[0m\u001b[0;34m(\u001b[0m\u001b[0;36m1\u001b[0m\u001b[0;34m,\u001b[0m \u001b[0;36m12\u001b[0m\u001b[0;34m)\u001b[0m\u001b[0;34m\u001b[0m\u001b[0;34m\u001b[0m\u001b[0m\n\u001b[0;32m----> 2\u001b[0;31m \u001b[0mm3\u001b[0m\u001b[0;34m[\u001b[0m\u001b[0;34m(\u001b[0m\u001b[0;36m2\u001b[0m\u001b[0;34m,\u001b[0m\u001b[0;36m6\u001b[0m\u001b[0;34m)\u001b[0m\u001b[0;34m]\u001b[0m\u001b[0;34m\u001b[0m\u001b[0;34m\u001b[0m\u001b[0m\n\u001b[0m",
            "\u001b[0;31mIndexError\u001b[0m: too many indices for array: array is 1-dimensional, but 2 were indexed"
          ]
        }
      ]
    },
    {
      "cell_type": "code",
      "source": [
        "import numpy as np\n",
        "a = np.array([[34, 28,55], [8, 56, 3], [77, 87, 19]])\n",
        "print(a)\n",
        "print(a.transpose()[-2,-2])"
      ],
      "metadata": {
        "id": "xCMSeqEkcGDr",
        "colab": {
          "base_uri": "https://localhost:8080/"
        },
        "outputId": "fe9b516c-0a3e-405a-b7db-0af06dc56fe0"
      },
      "execution_count": null,
      "outputs": [
        {
          "output_type": "stream",
          "name": "stdout",
          "text": [
            "[[34 28 55]\n",
            " [ 8 56  3]\n",
            " [77 87 19]]\n",
            "56\n"
          ]
        }
      ]
    },
    {
      "cell_type": "code",
      "source": [
        "v = np.array([200,300,400])\n",
        "v[:,None]"
      ],
      "metadata": {
        "colab": {
          "base_uri": "https://localhost:8080/"
        },
        "id": "qX_wBH46SscH",
        "outputId": "addeee47-fa95-43df-ec6e-22efd3353db2"
      },
      "execution_count": null,
      "outputs": [
        {
          "output_type": "execute_result",
          "data": {
            "text/plain": [
              "array([[200],\n",
              "       [300],\n",
              "       [400]])"
            ]
          },
          "metadata": {},
          "execution_count": 7
        }
      ]
    },
    {
      "cell_type": "code",
      "source": [
        "# Nested loops:\n",
        "\n",
        "TC = int(input())\n",
        "for i in range(TC):\n",
        "    N = int(input())\n",
        "    reversed_num = 0\n",
        "    while N > 0:\n",
        "        reversed_num = (reversed_num * 10) + (N % 10)\n",
        "        N = N // 10\n",
        "    print(reversed_num)"
      ],
      "metadata": {
        "id": "gI67qJF1ioZU"
      },
      "execution_count": null,
      "outputs": []
    },
    {
      "cell_type": "code",
      "source": [
        "N_size = int(input())  # Number of test cases\n",
        "\n",
        "for i in range(N_size):\n",
        "    N_lines = int(input())  # Number of integers in this test case\n",
        "\n",
        "    # Take the list of integers as input\n",
        "    shift = list(map(int, input().split()))\n",
        "\n",
        "    # Validate that the length matches N_lines\n",
        "    if len(shift) != N_lines:\n",
        "        print(\"Error: Input length does not match N_lines.\")\n",
        "        continue\n",
        "\n",
        "    # Right rotate the list by 1\n",
        "    shift = [shift[-1]] + shift[:-1]\n",
        "\n",
        "    # Print the rotated list\n",
        "    print(shift)\n"
      ],
      "metadata": {
        "colab": {
          "base_uri": "https://localhost:8080/"
        },
        "id": "Ydt9B7HhHaaV",
        "outputId": "0dc84e18-eeda-41a4-9a32-0351a80c43ed"
      },
      "execution_count": null,
      "outputs": [
        {
          "output_type": "stream",
          "name": "stdout",
          "text": [
            "1\n",
            "5\n",
            "1 2 3 4 5 \n",
            "[5, 1, 2, 3, 4]\n"
          ]
        }
      ]
    },
    {
      "cell_type": "code",
      "source": [
        "N = int(input())\n",
        "new_arr = []\n",
        "for i in range(1,N,-1):\n",
        "  arr = int(input())\n",
        "  new_arr.append(i)\n",
        "    # final = new_arr[:-1]\n",
        "  print(new_arr, end=\" \")"
      ],
      "metadata": {
        "colab": {
          "base_uri": "https://localhost:8080/"
        },
        "id": "nwt4uTa6iQYF",
        "outputId": "395cdc09-0d89-44fe-a26d-eb831100764e"
      },
      "execution_count": null,
      "outputs": [
        {
          "name": "stdout",
          "output_type": "stream",
          "text": [
            "5\n"
          ]
        }
      ]
    },
    {
      "cell_type": "code",
      "source": [
        "word = \"Scaler Data Science Course\"\n",
        "word_list = list(word)\n",
        "for i in word_list:\n",
        "  print(i.index, end=\" \")\n",
        "print(i)\n",
        "print()"
      ],
      "metadata": {
        "colab": {
          "base_uri": "https://localhost:8080/"
        },
        "id": "aBBA3wAinNHO",
        "outputId": "944fc76b-411d-4e57-fa5e-ce964328f9b1"
      },
      "execution_count": null,
      "outputs": [
        {
          "output_type": "stream",
          "name": "stdout",
          "text": [
            "<built-in method index of str object at 0x79685d3959f0> <built-in method index of str object at 0x79685d35d8b0> <built-in method index of str object at 0x79685d38bf30> <built-in method index of str object at 0x79685d3b1870> <built-in method index of str object at 0x79685d39d630> <built-in method index of str object at 0x79685d577ef0> <built-in method index of str object at 0x79685d39c130> <built-in method index of str object at 0x79685d3b0f30> <built-in method index of str object at 0x79685d38bf30> <built-in method index of str object at 0x79685d35d1b0> <built-in method index of str object at 0x79685d38bf30> <built-in method index of str object at 0x79685d39c130> <built-in method index of str object at 0x79685d3959f0> <built-in method index of str object at 0x79685d35d8b0> <built-in method index of str object at 0x79685d5751b0> <built-in method index of str object at 0x79685d39d630> <built-in method index of str object at 0x79685d3b05f0> <built-in method index of str object at 0x79685d35d8b0> <built-in method index of str object at 0x79685d39d630> <built-in method index of str object at 0x79685d39c130> <built-in method index of str object at 0x79685d3b0e30> <built-in method index of str object at 0x79685d35d8f0> <built-in method index of str object at 0x79685d35efb0> <built-in method index of str object at 0x79685d577ef0> <built-in method index of str object at 0x79685d574670> <built-in method index of str object at 0x79685d39d630> e\n",
            "\n"
          ]
        }
      ]
    },
    {
      "cell_type": "code",
      "source": [
        "word = \"Scaler Data Science Course\"\n",
        "\n",
        "# Split and reverse\n",
        "reversed_words = word.split()\n",
        "print(\" \".join(reversed_words))\n"
      ],
      "metadata": {
        "colab": {
          "base_uri": "https://localhost:8080/"
        },
        "id": "M0vJEX5gp-on",
        "outputId": "c9125d63-b67f-44b6-e65c-b2fcaed521d5"
      },
      "execution_count": null,
      "outputs": [
        {
          "output_type": "stream",
          "name": "stdout",
          "text": [
            "Scaler Data Science Course\n"
          ]
        }
      ]
    },
    {
      "cell_type": "markdown",
      "source": [],
      "metadata": {
        "id": "1MckoucAiPhX"
      }
    },
    {
      "cell_type": "code",
      "source": [
        "# Original string\n",
        "word = \"Scaler Data Science Course\"\n",
        "\n",
        "# Split the string into a list of words\n",
        "word_list = word.split()\n",
        "\n",
        "# Iterate over the list with indexes\n",
        "for index, w in enumerate(word_list):\n",
        "    print(f\"Index: {index}, Word: {w}\")\n"
      ],
      "metadata": {
        "colab": {
          "base_uri": "https://localhost:8080/"
        },
        "id": "s1_0rCFWqTxr",
        "outputId": "7ef8e2ec-5800-4e12-90fd-d3eb9950b9d8"
      },
      "execution_count": null,
      "outputs": [
        {
          "output_type": "stream",
          "name": "stdout",
          "text": [
            "Index: 0, Word: Scaler\n",
            "Index: 1, Word: Data\n",
            "Index: 2, Word: Science\n",
            "Index: 3, Word: Course\n"
          ]
        }
      ]
    },
    {
      "cell_type": "code",
      "source": [
        "arr1 = [1,2,3]\n",
        "arr2 = [6,5,4]\n",
        "\n",
        "arr1.sort()\n",
        "print(arr1)\n",
        "\n",
        "# arr1.append(arr2)\n",
        "# print(arr1)\n",
        "\n",
        "# arr1.extend(arr2)\n",
        "# print(arr1)\n",
        "\n"
      ],
      "metadata": {
        "colab": {
          "base_uri": "https://localhost:8080/"
        },
        "id": "xcv_aEtirGI2",
        "outputId": "4bca0ea1-5629-49cd-d919-3df481fd2137"
      },
      "execution_count": null,
      "outputs": [
        {
          "output_type": "stream",
          "name": "stdout",
          "text": [
            "[1, 2, 3]\n"
          ]
        }
      ]
    },
    {
      "cell_type": "code",
      "source": [
        "a = 5"
      ],
      "metadata": {
        "id": "T2QudZPZ_9CR"
      },
      "execution_count": null,
      "outputs": []
    },
    {
      "cell_type": "code",
      "source": [
        "b = 10\n",
        "a = b\n",
        "b = a"
      ],
      "metadata": {
        "id": "wcL5SOWG_-TN"
      },
      "execution_count": null,
      "outputs": []
    },
    {
      "cell_type": "code",
      "source": [
        "print(a)\n",
        "print(b)"
      ],
      "metadata": {
        "colab": {
          "base_uri": "https://localhost:8080/"
        },
        "id": "9ODgPpG5AC3K",
        "outputId": "87a1f55a-0b46-4e80-95f6-6b60083cb6c5"
      },
      "execution_count": null,
      "outputs": [
        {
          "output_type": "stream",
          "name": "stdout",
          "text": [
            "10\n",
            "10\n"
          ]
        }
      ]
    },
    {
      "cell_type": "code",
      "source": [
        "class Circle:\n",
        "    pi = 3.14\n",
        "    def __init__(self, diameter):\n",
        "        self.radius = diameter / 2\n",
        "\n",
        "    def circumference(self):\n",
        "        return 2 * self.pi * self.radius\n",
        "\n",
        "\n",
        "pizza = Circle(12)\n",
        "print(pizza.circumference())\n",
        "\n",
        "pizza = Circle(6)\n",
        "print(pizza.circumference())\n",
        "\n",
        "pizza = Circle(12)\n",
        "print(pizza.self.circumference())\n",
        "\n",
        "pizza = Circle(6)\n",
        "print(pizza.self.circumference())"
      ],
      "metadata": {
        "colab": {
          "base_uri": "https://localhost:8080/",
          "height": 251
        },
        "id": "hxnBUsxdNLFs",
        "outputId": "4fbfb8a1-6aae-4bf3-d52c-b37ef72a415a"
      },
      "execution_count": null,
      "outputs": [
        {
          "output_type": "stream",
          "name": "stdout",
          "text": [
            "37.68\n",
            "18.84\n"
          ]
        },
        {
          "output_type": "error",
          "ename": "AttributeError",
          "evalue": "'Circle' object has no attribute 'self'",
          "traceback": [
            "\u001b[0;31m---------------------------------------------------------------------------\u001b[0m",
            "\u001b[0;31mAttributeError\u001b[0m                            Traceback (most recent call last)",
            "\u001b[0;32m<ipython-input-6-dcf50b9edade>\u001b[0m in \u001b[0;36m<cell line: 17>\u001b[0;34m()\u001b[0m\n\u001b[1;32m     15\u001b[0m \u001b[0;34m\u001b[0m\u001b[0m\n\u001b[1;32m     16\u001b[0m \u001b[0mpizza\u001b[0m \u001b[0;34m=\u001b[0m \u001b[0mCircle\u001b[0m\u001b[0;34m(\u001b[0m\u001b[0;36m12\u001b[0m\u001b[0;34m)\u001b[0m\u001b[0;34m\u001b[0m\u001b[0;34m\u001b[0m\u001b[0m\n\u001b[0;32m---> 17\u001b[0;31m \u001b[0mprint\u001b[0m\u001b[0;34m(\u001b[0m\u001b[0mpizza\u001b[0m\u001b[0;34m.\u001b[0m\u001b[0mself\u001b[0m\u001b[0;34m.\u001b[0m\u001b[0mcircumference\u001b[0m\u001b[0;34m(\u001b[0m\u001b[0;34m)\u001b[0m\u001b[0;34m)\u001b[0m\u001b[0;34m\u001b[0m\u001b[0;34m\u001b[0m\u001b[0m\n\u001b[0m\u001b[1;32m     18\u001b[0m \u001b[0;34m\u001b[0m\u001b[0m\n\u001b[1;32m     19\u001b[0m \u001b[0mpizza\u001b[0m \u001b[0;34m=\u001b[0m \u001b[0mCircle\u001b[0m\u001b[0;34m(\u001b[0m\u001b[0;36m6\u001b[0m\u001b[0;34m)\u001b[0m\u001b[0;34m\u001b[0m\u001b[0;34m\u001b[0m\u001b[0m\n",
            "\u001b[0;31mAttributeError\u001b[0m: 'Circle' object has no attribute 'self'"
          ]
        }
      ]
    },
    {
      "cell_type": "code",
      "source": [
        "import pandas as pd\n",
        "\n",
        "data = {\n",
        "    'name': ['Jim', 'Clarke', 'Kent', 'Mark'],\n",
        "    'username': ['itsjimhere', 'clark002', 'itskentment', 'markyoumustknow'],\n",
        "    'userid': [20, 10, 86, 21]\n",
        "}\n",
        "\n",
        "df = pd.DataFrame(data)\n",
        "df"
      ],
      "metadata": {
        "colab": {
          "base_uri": "https://localhost:8080/",
          "height": 175
        },
        "id": "PK7abTZN_sDt",
        "outputId": "542fbb89-b366-42dc-8ea0-73340352667c"
      },
      "execution_count": null,
      "outputs": [
        {
          "output_type": "execute_result",
          "data": {
            "text/plain": [
              "     name         username  userid\n",
              "0     Jim       itsjimhere      20\n",
              "1  Clarke         clark002      10\n",
              "2    Kent      itskentment      86\n",
              "3    Mark  markyoumustknow      21"
            ],
            "text/html": [
              "\n",
              "  <div id=\"df-e18dd7aa-507e-424c-a486-65b74ab5a7ba\" class=\"colab-df-container\">\n",
              "    <div>\n",
              "<style scoped>\n",
              "    .dataframe tbody tr th:only-of-type {\n",
              "        vertical-align: middle;\n",
              "    }\n",
              "\n",
              "    .dataframe tbody tr th {\n",
              "        vertical-align: top;\n",
              "    }\n",
              "\n",
              "    .dataframe thead th {\n",
              "        text-align: right;\n",
              "    }\n",
              "</style>\n",
              "<table border=\"1\" class=\"dataframe\">\n",
              "  <thead>\n",
              "    <tr style=\"text-align: right;\">\n",
              "      <th></th>\n",
              "      <th>name</th>\n",
              "      <th>username</th>\n",
              "      <th>userid</th>\n",
              "    </tr>\n",
              "  </thead>\n",
              "  <tbody>\n",
              "    <tr>\n",
              "      <th>0</th>\n",
              "      <td>Jim</td>\n",
              "      <td>itsjimhere</td>\n",
              "      <td>20</td>\n",
              "    </tr>\n",
              "    <tr>\n",
              "      <th>1</th>\n",
              "      <td>Clarke</td>\n",
              "      <td>clark002</td>\n",
              "      <td>10</td>\n",
              "    </tr>\n",
              "    <tr>\n",
              "      <th>2</th>\n",
              "      <td>Kent</td>\n",
              "      <td>itskentment</td>\n",
              "      <td>86</td>\n",
              "    </tr>\n",
              "    <tr>\n",
              "      <th>3</th>\n",
              "      <td>Mark</td>\n",
              "      <td>markyoumustknow</td>\n",
              "      <td>21</td>\n",
              "    </tr>\n",
              "  </tbody>\n",
              "</table>\n",
              "</div>\n",
              "    <div class=\"colab-df-buttons\">\n",
              "\n",
              "  <div class=\"colab-df-container\">\n",
              "    <button class=\"colab-df-convert\" onclick=\"convertToInteractive('df-e18dd7aa-507e-424c-a486-65b74ab5a7ba')\"\n",
              "            title=\"Convert this dataframe to an interactive table.\"\n",
              "            style=\"display:none;\">\n",
              "\n",
              "  <svg xmlns=\"http://www.w3.org/2000/svg\" height=\"24px\" viewBox=\"0 -960 960 960\">\n",
              "    <path d=\"M120-120v-720h720v720H120Zm60-500h600v-160H180v160Zm220 220h160v-160H400v160Zm0 220h160v-160H400v160ZM180-400h160v-160H180v160Zm440 0h160v-160H620v160ZM180-180h160v-160H180v160Zm440 0h160v-160H620v160Z\"/>\n",
              "  </svg>\n",
              "    </button>\n",
              "\n",
              "  <style>\n",
              "    .colab-df-container {\n",
              "      display:flex;\n",
              "      gap: 12px;\n",
              "    }\n",
              "\n",
              "    .colab-df-convert {\n",
              "      background-color: #E8F0FE;\n",
              "      border: none;\n",
              "      border-radius: 50%;\n",
              "      cursor: pointer;\n",
              "      display: none;\n",
              "      fill: #1967D2;\n",
              "      height: 32px;\n",
              "      padding: 0 0 0 0;\n",
              "      width: 32px;\n",
              "    }\n",
              "\n",
              "    .colab-df-convert:hover {\n",
              "      background-color: #E2EBFA;\n",
              "      box-shadow: 0px 1px 2px rgba(60, 64, 67, 0.3), 0px 1px 3px 1px rgba(60, 64, 67, 0.15);\n",
              "      fill: #174EA6;\n",
              "    }\n",
              "\n",
              "    .colab-df-buttons div {\n",
              "      margin-bottom: 4px;\n",
              "    }\n",
              "\n",
              "    [theme=dark] .colab-df-convert {\n",
              "      background-color: #3B4455;\n",
              "      fill: #D2E3FC;\n",
              "    }\n",
              "\n",
              "    [theme=dark] .colab-df-convert:hover {\n",
              "      background-color: #434B5C;\n",
              "      box-shadow: 0px 1px 3px 1px rgba(0, 0, 0, 0.15);\n",
              "      filter: drop-shadow(0px 1px 2px rgba(0, 0, 0, 0.3));\n",
              "      fill: #FFFFFF;\n",
              "    }\n",
              "  </style>\n",
              "\n",
              "    <script>\n",
              "      const buttonEl =\n",
              "        document.querySelector('#df-e18dd7aa-507e-424c-a486-65b74ab5a7ba button.colab-df-convert');\n",
              "      buttonEl.style.display =\n",
              "        google.colab.kernel.accessAllowed ? 'block' : 'none';\n",
              "\n",
              "      async function convertToInteractive(key) {\n",
              "        const element = document.querySelector('#df-e18dd7aa-507e-424c-a486-65b74ab5a7ba');\n",
              "        const dataTable =\n",
              "          await google.colab.kernel.invokeFunction('convertToInteractive',\n",
              "                                                    [key], {});\n",
              "        if (!dataTable) return;\n",
              "\n",
              "        const docLinkHtml = 'Like what you see? Visit the ' +\n",
              "          '<a target=\"_blank\" href=https://colab.research.google.com/notebooks/data_table.ipynb>data table notebook</a>'\n",
              "          + ' to learn more about interactive tables.';\n",
              "        element.innerHTML = '';\n",
              "        dataTable['output_type'] = 'display_data';\n",
              "        await google.colab.output.renderOutput(dataTable, element);\n",
              "        const docLink = document.createElement('div');\n",
              "        docLink.innerHTML = docLinkHtml;\n",
              "        element.appendChild(docLink);\n",
              "      }\n",
              "    </script>\n",
              "  </div>\n",
              "\n",
              "\n",
              "<div id=\"df-62a8bc10-a96a-4311-a5e0-261ff8944cc8\">\n",
              "  <button class=\"colab-df-quickchart\" onclick=\"quickchart('df-62a8bc10-a96a-4311-a5e0-261ff8944cc8')\"\n",
              "            title=\"Suggest charts\"\n",
              "            style=\"display:none;\">\n",
              "\n",
              "<svg xmlns=\"http://www.w3.org/2000/svg\" height=\"24px\"viewBox=\"0 0 24 24\"\n",
              "     width=\"24px\">\n",
              "    <g>\n",
              "        <path d=\"M19 3H5c-1.1 0-2 .9-2 2v14c0 1.1.9 2 2 2h14c1.1 0 2-.9 2-2V5c0-1.1-.9-2-2-2zM9 17H7v-7h2v7zm4 0h-2V7h2v10zm4 0h-2v-4h2v4z\"/>\n",
              "    </g>\n",
              "</svg>\n",
              "  </button>\n",
              "\n",
              "<style>\n",
              "  .colab-df-quickchart {\n",
              "      --bg-color: #E8F0FE;\n",
              "      --fill-color: #1967D2;\n",
              "      --hover-bg-color: #E2EBFA;\n",
              "      --hover-fill-color: #174EA6;\n",
              "      --disabled-fill-color: #AAA;\n",
              "      --disabled-bg-color: #DDD;\n",
              "  }\n",
              "\n",
              "  [theme=dark] .colab-df-quickchart {\n",
              "      --bg-color: #3B4455;\n",
              "      --fill-color: #D2E3FC;\n",
              "      --hover-bg-color: #434B5C;\n",
              "      --hover-fill-color: #FFFFFF;\n",
              "      --disabled-bg-color: #3B4455;\n",
              "      --disabled-fill-color: #666;\n",
              "  }\n",
              "\n",
              "  .colab-df-quickchart {\n",
              "    background-color: var(--bg-color);\n",
              "    border: none;\n",
              "    border-radius: 50%;\n",
              "    cursor: pointer;\n",
              "    display: none;\n",
              "    fill: var(--fill-color);\n",
              "    height: 32px;\n",
              "    padding: 0;\n",
              "    width: 32px;\n",
              "  }\n",
              "\n",
              "  .colab-df-quickchart:hover {\n",
              "    background-color: var(--hover-bg-color);\n",
              "    box-shadow: 0 1px 2px rgba(60, 64, 67, 0.3), 0 1px 3px 1px rgba(60, 64, 67, 0.15);\n",
              "    fill: var(--button-hover-fill-color);\n",
              "  }\n",
              "\n",
              "  .colab-df-quickchart-complete:disabled,\n",
              "  .colab-df-quickchart-complete:disabled:hover {\n",
              "    background-color: var(--disabled-bg-color);\n",
              "    fill: var(--disabled-fill-color);\n",
              "    box-shadow: none;\n",
              "  }\n",
              "\n",
              "  .colab-df-spinner {\n",
              "    border: 2px solid var(--fill-color);\n",
              "    border-color: transparent;\n",
              "    border-bottom-color: var(--fill-color);\n",
              "    animation:\n",
              "      spin 1s steps(1) infinite;\n",
              "  }\n",
              "\n",
              "  @keyframes spin {\n",
              "    0% {\n",
              "      border-color: transparent;\n",
              "      border-bottom-color: var(--fill-color);\n",
              "      border-left-color: var(--fill-color);\n",
              "    }\n",
              "    20% {\n",
              "      border-color: transparent;\n",
              "      border-left-color: var(--fill-color);\n",
              "      border-top-color: var(--fill-color);\n",
              "    }\n",
              "    30% {\n",
              "      border-color: transparent;\n",
              "      border-left-color: var(--fill-color);\n",
              "      border-top-color: var(--fill-color);\n",
              "      border-right-color: var(--fill-color);\n",
              "    }\n",
              "    40% {\n",
              "      border-color: transparent;\n",
              "      border-right-color: var(--fill-color);\n",
              "      border-top-color: var(--fill-color);\n",
              "    }\n",
              "    60% {\n",
              "      border-color: transparent;\n",
              "      border-right-color: var(--fill-color);\n",
              "    }\n",
              "    80% {\n",
              "      border-color: transparent;\n",
              "      border-right-color: var(--fill-color);\n",
              "      border-bottom-color: var(--fill-color);\n",
              "    }\n",
              "    90% {\n",
              "      border-color: transparent;\n",
              "      border-bottom-color: var(--fill-color);\n",
              "    }\n",
              "  }\n",
              "</style>\n",
              "\n",
              "  <script>\n",
              "    async function quickchart(key) {\n",
              "      const quickchartButtonEl =\n",
              "        document.querySelector('#' + key + ' button');\n",
              "      quickchartButtonEl.disabled = true;  // To prevent multiple clicks.\n",
              "      quickchartButtonEl.classList.add('colab-df-spinner');\n",
              "      try {\n",
              "        const charts = await google.colab.kernel.invokeFunction(\n",
              "            'suggestCharts', [key], {});\n",
              "      } catch (error) {\n",
              "        console.error('Error during call to suggestCharts:', error);\n",
              "      }\n",
              "      quickchartButtonEl.classList.remove('colab-df-spinner');\n",
              "      quickchartButtonEl.classList.add('colab-df-quickchart-complete');\n",
              "    }\n",
              "    (() => {\n",
              "      let quickchartButtonEl =\n",
              "        document.querySelector('#df-62a8bc10-a96a-4311-a5e0-261ff8944cc8 button');\n",
              "      quickchartButtonEl.style.display =\n",
              "        google.colab.kernel.accessAllowed ? 'block' : 'none';\n",
              "    })();\n",
              "  </script>\n",
              "</div>\n",
              "\n",
              "  <div id=\"id_746aa835-ebd1-46ff-ab02-ca10bed523ce\">\n",
              "    <style>\n",
              "      .colab-df-generate {\n",
              "        background-color: #E8F0FE;\n",
              "        border: none;\n",
              "        border-radius: 50%;\n",
              "        cursor: pointer;\n",
              "        display: none;\n",
              "        fill: #1967D2;\n",
              "        height: 32px;\n",
              "        padding: 0 0 0 0;\n",
              "        width: 32px;\n",
              "      }\n",
              "\n",
              "      .colab-df-generate:hover {\n",
              "        background-color: #E2EBFA;\n",
              "        box-shadow: 0px 1px 2px rgba(60, 64, 67, 0.3), 0px 1px 3px 1px rgba(60, 64, 67, 0.15);\n",
              "        fill: #174EA6;\n",
              "      }\n",
              "\n",
              "      [theme=dark] .colab-df-generate {\n",
              "        background-color: #3B4455;\n",
              "        fill: #D2E3FC;\n",
              "      }\n",
              "\n",
              "      [theme=dark] .colab-df-generate:hover {\n",
              "        background-color: #434B5C;\n",
              "        box-shadow: 0px 1px 3px 1px rgba(0, 0, 0, 0.15);\n",
              "        filter: drop-shadow(0px 1px 2px rgba(0, 0, 0, 0.3));\n",
              "        fill: #FFFFFF;\n",
              "      }\n",
              "    </style>\n",
              "    <button class=\"colab-df-generate\" onclick=\"generateWithVariable('df')\"\n",
              "            title=\"Generate code using this dataframe.\"\n",
              "            style=\"display:none;\">\n",
              "\n",
              "  <svg xmlns=\"http://www.w3.org/2000/svg\" height=\"24px\"viewBox=\"0 0 24 24\"\n",
              "       width=\"24px\">\n",
              "    <path d=\"M7,19H8.4L18.45,9,17,7.55,7,17.6ZM5,21V16.75L18.45,3.32a2,2,0,0,1,2.83,0l1.4,1.43a1.91,1.91,0,0,1,.58,1.4,1.91,1.91,0,0,1-.58,1.4L9.25,21ZM18.45,9,17,7.55Zm-12,3A5.31,5.31,0,0,0,4.9,8.1,5.31,5.31,0,0,0,1,6.5,5.31,5.31,0,0,0,4.9,4.9,5.31,5.31,0,0,0,6.5,1,5.31,5.31,0,0,0,8.1,4.9,5.31,5.31,0,0,0,12,6.5,5.46,5.46,0,0,0,6.5,12Z\"/>\n",
              "  </svg>\n",
              "    </button>\n",
              "    <script>\n",
              "      (() => {\n",
              "      const buttonEl =\n",
              "        document.querySelector('#id_746aa835-ebd1-46ff-ab02-ca10bed523ce button.colab-df-generate');\n",
              "      buttonEl.style.display =\n",
              "        google.colab.kernel.accessAllowed ? 'block' : 'none';\n",
              "\n",
              "      buttonEl.onclick = () => {\n",
              "        google.colab.notebook.generateWithVariable('df');\n",
              "      }\n",
              "      })();\n",
              "    </script>\n",
              "  </div>\n",
              "\n",
              "    </div>\n",
              "  </div>\n"
            ],
            "application/vnd.google.colaboratory.intrinsic+json": {
              "type": "dataframe",
              "variable_name": "df",
              "summary": "{\n  \"name\": \"df\",\n  \"rows\": 4,\n  \"fields\": [\n    {\n      \"column\": \"name\",\n      \"properties\": {\n        \"dtype\": \"string\",\n        \"num_unique_values\": 4,\n        \"samples\": [\n          \"Clarke\",\n          \"Mark\",\n          \"Jim\"\n        ],\n        \"semantic_type\": \"\",\n        \"description\": \"\"\n      }\n    },\n    {\n      \"column\": \"username\",\n      \"properties\": {\n        \"dtype\": \"string\",\n        \"num_unique_values\": 4,\n        \"samples\": [\n          \"clark002\",\n          \"markyoumustknow\",\n          \"itsjimhere\"\n        ],\n        \"semantic_type\": \"\",\n        \"description\": \"\"\n      }\n    },\n    {\n      \"column\": \"userid\",\n      \"properties\": {\n        \"dtype\": \"number\",\n        \"std\": 34,\n        \"min\": 10,\n        \"max\": 86,\n        \"num_unique_values\": 4,\n        \"samples\": [\n          10,\n          21,\n          20\n        ],\n        \"semantic_type\": \"\",\n        \"description\": \"\"\n      }\n    }\n  ]\n}"
            }
          },
          "metadata": {},
          "execution_count": 1
        }
      ]
    },
    {
      "cell_type": "code",
      "source": [
        "def check(name,username):\n",
        "    return name.lower() in username\n",
        "\n",
        "df[~(df.apply(lambda x:check(x['name'],x['username']), axis=1))]['userid']"
      ],
      "metadata": {
        "colab": {
          "base_uri": "https://localhost:8080/",
          "height": 115
        },
        "id": "UpnR_93q_39a",
        "outputId": "5d14fb49-7ad2-4591-af07-7cf94cf0bd0f"
      },
      "execution_count": null,
      "outputs": [
        {
          "output_type": "execute_result",
          "data": {
            "text/plain": [
              "1    10\n",
              "Name: userid, dtype: int64"
            ],
            "text/html": [
              "<div>\n",
              "<style scoped>\n",
              "    .dataframe tbody tr th:only-of-type {\n",
              "        vertical-align: middle;\n",
              "    }\n",
              "\n",
              "    .dataframe tbody tr th {\n",
              "        vertical-align: top;\n",
              "    }\n",
              "\n",
              "    .dataframe thead th {\n",
              "        text-align: right;\n",
              "    }\n",
              "</style>\n",
              "<table border=\"1\" class=\"dataframe\">\n",
              "  <thead>\n",
              "    <tr style=\"text-align: right;\">\n",
              "      <th></th>\n",
              "      <th>userid</th>\n",
              "    </tr>\n",
              "  </thead>\n",
              "  <tbody>\n",
              "    <tr>\n",
              "      <th>1</th>\n",
              "      <td>10</td>\n",
              "    </tr>\n",
              "  </tbody>\n",
              "</table>\n",
              "</div><br><label><b>dtype:</b> int64</label>"
            ]
          },
          "metadata": {},
          "execution_count": 4
        }
      ]
    },
    {
      "cell_type": "code",
      "source": [
        "import pandas as pd\n",
        "\n",
        "data = {\n",
        "    'roll_no': [1, 2, 1, 3, 1, 3, 3, 3, 2, 2, 1, 2],\n",
        "    'subject': ['NN', 'DL', 'ML', 'Prob', 'DL', 'ML', 'DL', 'NN', 'NN', 'Prob', 'Prob', 'ML'],\n",
        "    'marks': [97, 63, 63, 71, 64, 90, 66, 46, 74, 62, 94, 67]\n",
        "}\n",
        "\n",
        "df = pd.DataFrame(data)\n",
        "max_marks = list(df.groupby('subject'))\n",
        "max_marks\n"
      ],
      "metadata": {
        "colab": {
          "base_uri": "https://localhost:8080/"
        },
        "id": "uiYS2W6LBkpK",
        "outputId": "611451ba-1644-44b8-a82a-c7e6a32fdc58"
      },
      "execution_count": null,
      "outputs": [
        {
          "output_type": "execute_result",
          "data": {
            "text/plain": [
              "[('DL',\n",
              "     roll_no subject  marks\n",
              "  1        2      DL     63\n",
              "  4        1      DL     64\n",
              "  6        3      DL     66),\n",
              " ('ML',\n",
              "      roll_no subject  marks\n",
              "  2         1      ML     63\n",
              "  5         3      ML     90\n",
              "  11        2      ML     67),\n",
              " ('NN',\n",
              "     roll_no subject  marks\n",
              "  0        1      NN     97\n",
              "  7        3      NN     46\n",
              "  8        2      NN     74),\n",
              " ('Prob',\n",
              "      roll_no subject  marks\n",
              "  3         3    Prob     71\n",
              "  9         2    Prob     62\n",
              "  10        1    Prob     94)]"
            ]
          },
          "metadata": {},
          "execution_count": 12
        }
      ]
    },
    {
      "cell_type": "code",
      "source": [
        "import pandas as pd\n",
        "\n",
        "data = {\n",
        "    'roll_no': [1, 2, 1, 3, 1, 3, 3, 3, 2, 2, 1, 2],\n",
        "    'subject': ['NN', 'DL', 'ML', 'Prob', 'DL', 'ML', 'DL', 'NN', 'NN', 'Prob', 'Prob', 'ML'],\n",
        "    'marks': [97, 63, 63, 71, 64, 90, 66, 46, 74, 62, 94, 67]\n",
        "}\n",
        "\n",
        "df = pd.DataFrame(data)\n",
        "df\n",
        "\n",
        "max_marks = df.groupby('subject').max()\n",
        "max_marks\n",
        "\n"
      ],
      "metadata": {
        "colab": {
          "base_uri": "https://localhost:8080/",
          "height": 206
        },
        "id": "M5R5-AOoPh5a",
        "outputId": "80bdf695-bac3-4d54-e796-258feb92341d"
      },
      "execution_count": null,
      "outputs": [
        {
          "output_type": "execute_result",
          "data": {
            "text/plain": [
              "         roll_no  marks\n",
              "subject                \n",
              "DL             3     66\n",
              "ML             3     90\n",
              "NN             3     97\n",
              "Prob           3     94"
            ],
            "text/html": [
              "\n",
              "  <div id=\"df-b3d9688e-3486-4d3d-acc0-b35870365f99\" class=\"colab-df-container\">\n",
              "    <div>\n",
              "<style scoped>\n",
              "    .dataframe tbody tr th:only-of-type {\n",
              "        vertical-align: middle;\n",
              "    }\n",
              "\n",
              "    .dataframe tbody tr th {\n",
              "        vertical-align: top;\n",
              "    }\n",
              "\n",
              "    .dataframe thead th {\n",
              "        text-align: right;\n",
              "    }\n",
              "</style>\n",
              "<table border=\"1\" class=\"dataframe\">\n",
              "  <thead>\n",
              "    <tr style=\"text-align: right;\">\n",
              "      <th></th>\n",
              "      <th>roll_no</th>\n",
              "      <th>marks</th>\n",
              "    </tr>\n",
              "    <tr>\n",
              "      <th>subject</th>\n",
              "      <th></th>\n",
              "      <th></th>\n",
              "    </tr>\n",
              "  </thead>\n",
              "  <tbody>\n",
              "    <tr>\n",
              "      <th>DL</th>\n",
              "      <td>3</td>\n",
              "      <td>66</td>\n",
              "    </tr>\n",
              "    <tr>\n",
              "      <th>ML</th>\n",
              "      <td>3</td>\n",
              "      <td>90</td>\n",
              "    </tr>\n",
              "    <tr>\n",
              "      <th>NN</th>\n",
              "      <td>3</td>\n",
              "      <td>97</td>\n",
              "    </tr>\n",
              "    <tr>\n",
              "      <th>Prob</th>\n",
              "      <td>3</td>\n",
              "      <td>94</td>\n",
              "    </tr>\n",
              "  </tbody>\n",
              "</table>\n",
              "</div>\n",
              "    <div class=\"colab-df-buttons\">\n",
              "\n",
              "  <div class=\"colab-df-container\">\n",
              "    <button class=\"colab-df-convert\" onclick=\"convertToInteractive('df-b3d9688e-3486-4d3d-acc0-b35870365f99')\"\n",
              "            title=\"Convert this dataframe to an interactive table.\"\n",
              "            style=\"display:none;\">\n",
              "\n",
              "  <svg xmlns=\"http://www.w3.org/2000/svg\" height=\"24px\" viewBox=\"0 -960 960 960\">\n",
              "    <path d=\"M120-120v-720h720v720H120Zm60-500h600v-160H180v160Zm220 220h160v-160H400v160Zm0 220h160v-160H400v160ZM180-400h160v-160H180v160Zm440 0h160v-160H620v160ZM180-180h160v-160H180v160Zm440 0h160v-160H620v160Z\"/>\n",
              "  </svg>\n",
              "    </button>\n",
              "\n",
              "  <style>\n",
              "    .colab-df-container {\n",
              "      display:flex;\n",
              "      gap: 12px;\n",
              "    }\n",
              "\n",
              "    .colab-df-convert {\n",
              "      background-color: #E8F0FE;\n",
              "      border: none;\n",
              "      border-radius: 50%;\n",
              "      cursor: pointer;\n",
              "      display: none;\n",
              "      fill: #1967D2;\n",
              "      height: 32px;\n",
              "      padding: 0 0 0 0;\n",
              "      width: 32px;\n",
              "    }\n",
              "\n",
              "    .colab-df-convert:hover {\n",
              "      background-color: #E2EBFA;\n",
              "      box-shadow: 0px 1px 2px rgba(60, 64, 67, 0.3), 0px 1px 3px 1px rgba(60, 64, 67, 0.15);\n",
              "      fill: #174EA6;\n",
              "    }\n",
              "\n",
              "    .colab-df-buttons div {\n",
              "      margin-bottom: 4px;\n",
              "    }\n",
              "\n",
              "    [theme=dark] .colab-df-convert {\n",
              "      background-color: #3B4455;\n",
              "      fill: #D2E3FC;\n",
              "    }\n",
              "\n",
              "    [theme=dark] .colab-df-convert:hover {\n",
              "      background-color: #434B5C;\n",
              "      box-shadow: 0px 1px 3px 1px rgba(0, 0, 0, 0.15);\n",
              "      filter: drop-shadow(0px 1px 2px rgba(0, 0, 0, 0.3));\n",
              "      fill: #FFFFFF;\n",
              "    }\n",
              "  </style>\n",
              "\n",
              "    <script>\n",
              "      const buttonEl =\n",
              "        document.querySelector('#df-b3d9688e-3486-4d3d-acc0-b35870365f99 button.colab-df-convert');\n",
              "      buttonEl.style.display =\n",
              "        google.colab.kernel.accessAllowed ? 'block' : 'none';\n",
              "\n",
              "      async function convertToInteractive(key) {\n",
              "        const element = document.querySelector('#df-b3d9688e-3486-4d3d-acc0-b35870365f99');\n",
              "        const dataTable =\n",
              "          await google.colab.kernel.invokeFunction('convertToInteractive',\n",
              "                                                    [key], {});\n",
              "        if (!dataTable) return;\n",
              "\n",
              "        const docLinkHtml = 'Like what you see? Visit the ' +\n",
              "          '<a target=\"_blank\" href=https://colab.research.google.com/notebooks/data_table.ipynb>data table notebook</a>'\n",
              "          + ' to learn more about interactive tables.';\n",
              "        element.innerHTML = '';\n",
              "        dataTable['output_type'] = 'display_data';\n",
              "        await google.colab.output.renderOutput(dataTable, element);\n",
              "        const docLink = document.createElement('div');\n",
              "        docLink.innerHTML = docLinkHtml;\n",
              "        element.appendChild(docLink);\n",
              "      }\n",
              "    </script>\n",
              "  </div>\n",
              "\n",
              "\n",
              "<div id=\"df-4007b7a2-22a2-4ca4-8100-e090f1810702\">\n",
              "  <button class=\"colab-df-quickchart\" onclick=\"quickchart('df-4007b7a2-22a2-4ca4-8100-e090f1810702')\"\n",
              "            title=\"Suggest charts\"\n",
              "            style=\"display:none;\">\n",
              "\n",
              "<svg xmlns=\"http://www.w3.org/2000/svg\" height=\"24px\"viewBox=\"0 0 24 24\"\n",
              "     width=\"24px\">\n",
              "    <g>\n",
              "        <path d=\"M19 3H5c-1.1 0-2 .9-2 2v14c0 1.1.9 2 2 2h14c1.1 0 2-.9 2-2V5c0-1.1-.9-2-2-2zM9 17H7v-7h2v7zm4 0h-2V7h2v10zm4 0h-2v-4h2v4z\"/>\n",
              "    </g>\n",
              "</svg>\n",
              "  </button>\n",
              "\n",
              "<style>\n",
              "  .colab-df-quickchart {\n",
              "      --bg-color: #E8F0FE;\n",
              "      --fill-color: #1967D2;\n",
              "      --hover-bg-color: #E2EBFA;\n",
              "      --hover-fill-color: #174EA6;\n",
              "      --disabled-fill-color: #AAA;\n",
              "      --disabled-bg-color: #DDD;\n",
              "  }\n",
              "\n",
              "  [theme=dark] .colab-df-quickchart {\n",
              "      --bg-color: #3B4455;\n",
              "      --fill-color: #D2E3FC;\n",
              "      --hover-bg-color: #434B5C;\n",
              "      --hover-fill-color: #FFFFFF;\n",
              "      --disabled-bg-color: #3B4455;\n",
              "      --disabled-fill-color: #666;\n",
              "  }\n",
              "\n",
              "  .colab-df-quickchart {\n",
              "    background-color: var(--bg-color);\n",
              "    border: none;\n",
              "    border-radius: 50%;\n",
              "    cursor: pointer;\n",
              "    display: none;\n",
              "    fill: var(--fill-color);\n",
              "    height: 32px;\n",
              "    padding: 0;\n",
              "    width: 32px;\n",
              "  }\n",
              "\n",
              "  .colab-df-quickchart:hover {\n",
              "    background-color: var(--hover-bg-color);\n",
              "    box-shadow: 0 1px 2px rgba(60, 64, 67, 0.3), 0 1px 3px 1px rgba(60, 64, 67, 0.15);\n",
              "    fill: var(--button-hover-fill-color);\n",
              "  }\n",
              "\n",
              "  .colab-df-quickchart-complete:disabled,\n",
              "  .colab-df-quickchart-complete:disabled:hover {\n",
              "    background-color: var(--disabled-bg-color);\n",
              "    fill: var(--disabled-fill-color);\n",
              "    box-shadow: none;\n",
              "  }\n",
              "\n",
              "  .colab-df-spinner {\n",
              "    border: 2px solid var(--fill-color);\n",
              "    border-color: transparent;\n",
              "    border-bottom-color: var(--fill-color);\n",
              "    animation:\n",
              "      spin 1s steps(1) infinite;\n",
              "  }\n",
              "\n",
              "  @keyframes spin {\n",
              "    0% {\n",
              "      border-color: transparent;\n",
              "      border-bottom-color: var(--fill-color);\n",
              "      border-left-color: var(--fill-color);\n",
              "    }\n",
              "    20% {\n",
              "      border-color: transparent;\n",
              "      border-left-color: var(--fill-color);\n",
              "      border-top-color: var(--fill-color);\n",
              "    }\n",
              "    30% {\n",
              "      border-color: transparent;\n",
              "      border-left-color: var(--fill-color);\n",
              "      border-top-color: var(--fill-color);\n",
              "      border-right-color: var(--fill-color);\n",
              "    }\n",
              "    40% {\n",
              "      border-color: transparent;\n",
              "      border-right-color: var(--fill-color);\n",
              "      border-top-color: var(--fill-color);\n",
              "    }\n",
              "    60% {\n",
              "      border-color: transparent;\n",
              "      border-right-color: var(--fill-color);\n",
              "    }\n",
              "    80% {\n",
              "      border-color: transparent;\n",
              "      border-right-color: var(--fill-color);\n",
              "      border-bottom-color: var(--fill-color);\n",
              "    }\n",
              "    90% {\n",
              "      border-color: transparent;\n",
              "      border-bottom-color: var(--fill-color);\n",
              "    }\n",
              "  }\n",
              "</style>\n",
              "\n",
              "  <script>\n",
              "    async function quickchart(key) {\n",
              "      const quickchartButtonEl =\n",
              "        document.querySelector('#' + key + ' button');\n",
              "      quickchartButtonEl.disabled = true;  // To prevent multiple clicks.\n",
              "      quickchartButtonEl.classList.add('colab-df-spinner');\n",
              "      try {\n",
              "        const charts = await google.colab.kernel.invokeFunction(\n",
              "            'suggestCharts', [key], {});\n",
              "      } catch (error) {\n",
              "        console.error('Error during call to suggestCharts:', error);\n",
              "      }\n",
              "      quickchartButtonEl.classList.remove('colab-df-spinner');\n",
              "      quickchartButtonEl.classList.add('colab-df-quickchart-complete');\n",
              "    }\n",
              "    (() => {\n",
              "      let quickchartButtonEl =\n",
              "        document.querySelector('#df-4007b7a2-22a2-4ca4-8100-e090f1810702 button');\n",
              "      quickchartButtonEl.style.display =\n",
              "        google.colab.kernel.accessAllowed ? 'block' : 'none';\n",
              "    })();\n",
              "  </script>\n",
              "</div>\n",
              "\n",
              "  <div id=\"id_bd24f367-9018-4d3e-bccf-1e5dba6b2bcd\">\n",
              "    <style>\n",
              "      .colab-df-generate {\n",
              "        background-color: #E8F0FE;\n",
              "        border: none;\n",
              "        border-radius: 50%;\n",
              "        cursor: pointer;\n",
              "        display: none;\n",
              "        fill: #1967D2;\n",
              "        height: 32px;\n",
              "        padding: 0 0 0 0;\n",
              "        width: 32px;\n",
              "      }\n",
              "\n",
              "      .colab-df-generate:hover {\n",
              "        background-color: #E2EBFA;\n",
              "        box-shadow: 0px 1px 2px rgba(60, 64, 67, 0.3), 0px 1px 3px 1px rgba(60, 64, 67, 0.15);\n",
              "        fill: #174EA6;\n",
              "      }\n",
              "\n",
              "      [theme=dark] .colab-df-generate {\n",
              "        background-color: #3B4455;\n",
              "        fill: #D2E3FC;\n",
              "      }\n",
              "\n",
              "      [theme=dark] .colab-df-generate:hover {\n",
              "        background-color: #434B5C;\n",
              "        box-shadow: 0px 1px 3px 1px rgba(0, 0, 0, 0.15);\n",
              "        filter: drop-shadow(0px 1px 2px rgba(0, 0, 0, 0.3));\n",
              "        fill: #FFFFFF;\n",
              "      }\n",
              "    </style>\n",
              "    <button class=\"colab-df-generate\" onclick=\"generateWithVariable('max_marks')\"\n",
              "            title=\"Generate code using this dataframe.\"\n",
              "            style=\"display:none;\">\n",
              "\n",
              "  <svg xmlns=\"http://www.w3.org/2000/svg\" height=\"24px\"viewBox=\"0 0 24 24\"\n",
              "       width=\"24px\">\n",
              "    <path d=\"M7,19H8.4L18.45,9,17,7.55,7,17.6ZM5,21V16.75L18.45,3.32a2,2,0,0,1,2.83,0l1.4,1.43a1.91,1.91,0,0,1,.58,1.4,1.91,1.91,0,0,1-.58,1.4L9.25,21ZM18.45,9,17,7.55Zm-12,3A5.31,5.31,0,0,0,4.9,8.1,5.31,5.31,0,0,0,1,6.5,5.31,5.31,0,0,0,4.9,4.9,5.31,5.31,0,0,0,6.5,1,5.31,5.31,0,0,0,8.1,4.9,5.31,5.31,0,0,0,12,6.5,5.46,5.46,0,0,0,6.5,12Z\"/>\n",
              "  </svg>\n",
              "    </button>\n",
              "    <script>\n",
              "      (() => {\n",
              "      const buttonEl =\n",
              "        document.querySelector('#id_bd24f367-9018-4d3e-bccf-1e5dba6b2bcd button.colab-df-generate');\n",
              "      buttonEl.style.display =\n",
              "        google.colab.kernel.accessAllowed ? 'block' : 'none';\n",
              "\n",
              "      buttonEl.onclick = () => {\n",
              "        google.colab.notebook.generateWithVariable('max_marks');\n",
              "      }\n",
              "      })();\n",
              "    </script>\n",
              "  </div>\n",
              "\n",
              "    </div>\n",
              "  </div>\n"
            ],
            "application/vnd.google.colaboratory.intrinsic+json": {
              "type": "dataframe",
              "variable_name": "max_marks",
              "summary": "{\n  \"name\": \"max_marks\",\n  \"rows\": 4,\n  \"fields\": [\n    {\n      \"column\": \"subject\",\n      \"properties\": {\n        \"dtype\": \"string\",\n        \"num_unique_values\": 4,\n        \"samples\": [\n          \"ML\",\n          \"Prob\",\n          \"DL\"\n        ],\n        \"semantic_type\": \"\",\n        \"description\": \"\"\n      }\n    },\n    {\n      \"column\": \"roll_no\",\n      \"properties\": {\n        \"dtype\": \"number\",\n        \"std\": 0,\n        \"min\": 3,\n        \"max\": 3,\n        \"num_unique_values\": 1,\n        \"samples\": [\n          3\n        ],\n        \"semantic_type\": \"\",\n        \"description\": \"\"\n      }\n    },\n    {\n      \"column\": \"marks\",\n      \"properties\": {\n        \"dtype\": \"number\",\n        \"std\": 14,\n        \"min\": 66,\n        \"max\": 97,\n        \"num_unique_values\": 4,\n        \"samples\": [\n          90\n        ],\n        \"semantic_type\": \"\",\n        \"description\": \"\"\n      }\n    }\n  ]\n}"
            }
          },
          "metadata": {},
          "execution_count": 19
        }
      ]
    },
    {
      "cell_type": "code",
      "source": [],
      "metadata": {
        "id": "CsgGDsn6C9vJ"
      },
      "execution_count": null,
      "outputs": []
    },
    {
      "cell_type": "code",
      "source": [
        "class Student:\n",
        "    def __init__(self, marks1, marks2, credits1, credits2):\n",
        "        self.marks = [marks1, marks2]\n",
        "        self.credits = [credits1, credits2]\n",
        "\n",
        "    def grade_point_average(self):\n",
        "        # Grade point calculation based on marks\n",
        "        def get_grade_point(marks):\n",
        "            if marks >= 90:\n",
        "                return 10\n",
        "            elif marks >= 75:\n",
        "                return 9\n",
        "            elif marks >= 60:\n",
        "                return 8\n",
        "            elif marks >= 45:\n",
        "                return 7\n",
        "            else:\n",
        "                return 0\n",
        "\n",
        "        # Handle the special case where both credits are 0\n",
        "        total_credits = sum(self.credits)\n",
        "        if total_credits == 0:\n",
        "            return -1.0\n",
        "\n",
        "        # Calculate total weighted points\n",
        "        total_weighted_points = sum(get_grade_point(mark) * credit for mark, credit in zip(self.marks, self.credits))\n",
        "\n",
        "        # Calculate GPA and round to two decimal places\n",
        "        gpa = total_weighted_points / total_credits\n",
        "        return round(gpa, 2)\n",
        "s1 = Student(5, 6, 0, 0)\n",
        "\n",
        "# Call the grade_point_average method\n",
        "output1 = s1.grade_point_average()\n",
        "\n",
        "# Print the GPA as an integer\n",
        "print(int(output1))\n"
      ],
      "metadata": {
        "colab": {
          "base_uri": "https://localhost:8080/"
        },
        "id": "DKdRyyF-s09a",
        "outputId": "01b68a6b-d4f4-4552-b2ca-04d99ae436cc"
      },
      "execution_count": null,
      "outputs": [
        {
          "output_type": "stream",
          "name": "stdout",
          "text": [
            "-1\n"
          ]
        }
      ]
    },
    {
      "cell_type": "code",
      "source": [
        "class BankAccount:\n",
        "\n",
        "  def __init__(self, acc_no, amount):\n",
        "    self.acc_no = acc_no\n",
        "    self.amount = amount\n",
        "\n",
        "\n",
        "  def CheckBalance(self):\n",
        "    print(f\"{self.acc_no} \\t {self.amount}\")\n",
        "\n",
        "ac1 = BankAccount(100, 1000)\n",
        "ac1.CheckBalance()"
      ],
      "metadata": {
        "id": "HJLPvMbEtmyi",
        "colab": {
          "base_uri": "https://localhost:8080/"
        },
        "outputId": "422200c3-e52c-4104-ac74-db07b8d6aca5"
      },
      "execution_count": null,
      "outputs": [
        {
          "output_type": "stream",
          "name": "stdout",
          "text": [
            "100 \t 1000\n"
          ]
        }
      ]
    },
    {
      "cell_type": "code",
      "source": [
        "#when ever we need instance variable inside the class \"SELF\" is needed\n",
        "\n",
        "class A:\n",
        "  print(\"Am I a Class\")\n",
        "\n",
        "# A()\n",
        "# obj1 = A()\n",
        "if A():\n",
        "  print(A())\n",
        "\n"
      ],
      "metadata": {
        "colab": {
          "base_uri": "https://localhost:8080/"
        },
        "id": "_QKbMmy4cxw5",
        "outputId": "157bbaa5-6e1f-46f2-80e1-f84122640858"
      },
      "execution_count": null,
      "outputs": [
        {
          "output_type": "stream",
          "name": "stdout",
          "text": [
            "Am I a Class\n",
            "<__main__.A object at 0x7d4756d4e890>\n"
          ]
        }
      ]
    },
    {
      "cell_type": "code",
      "source": [
        "\n",
        "class A:\n",
        " def __init__(self, a):\n",
        "  self.a = a\n",
        " def __add__(self, b):\n",
        "  if isinstance(b, int):\n",
        "    return A(self.a + b)\n",
        "  return A(self.a + b.a)\n",
        " def __str__(self):\n",
        "    return f\"{self.a}\"\n",
        "\n",
        "one = A(1)\n",
        "two = A(2)\n",
        "\n",
        "\n",
        "print(one + two + 100)\n"
      ],
      "metadata": {
        "colab": {
          "base_uri": "https://localhost:8080/"
        },
        "id": "mXh4_Wk9yi5c",
        "outputId": "2aa48d1f-87cd-4f1a-ed53-44bf714cdbe4"
      },
      "execution_count": null,
      "outputs": [
        {
          "output_type": "stream",
          "name": "stdout",
          "text": [
            "103\n"
          ]
        }
      ]
    },
    {
      "cell_type": "code",
      "source": [
        "class A:\n",
        "  def __init__(self, a):\n",
        "    self.a = a\n",
        "  def __add__(self, b):\n",
        "    if isinstance(b, int):\n",
        "      return A(self.a + b) # ins3 + int\n",
        "    return A(self.a + b.a) # ins3 = ins1 + ins2\n",
        "  def __str__(self):\n",
        "    return f\"{self.a}\"\n",
        "\n",
        "one = A(1)\n",
        "two = A(2)\n",
        "\n",
        "# ins1 + ins2 + int\n",
        "print(one + two + 100)"
      ],
      "metadata": {
        "colab": {
          "base_uri": "https://localhost:8080/"
        },
        "id": "-judqr_fywTO",
        "outputId": "cc84d633-d889-4b90-f6c2-cd0cbead4451"
      },
      "execution_count": null,
      "outputs": [
        {
          "output_type": "stream",
          "name": "stdout",
          "text": [
            "103\n"
          ]
        }
      ]
    },
    {
      "cell_type": "code",
      "source": [
        "class A:\n",
        "\n",
        " def __init__(self, a):\n",
        "  self.a = a\n",
        " def __add__(self, b):\n",
        "  if isinstance(b, int):\n",
        "    return A(self.a + b)\n",
        "  return A(self.a + b.a)\n",
        " def __str__(self):\n",
        "    return f\"{self.a}\"\n",
        "\n",
        "one = A(1)\n",
        "two = A(2)\n",
        "\n",
        "\n",
        "print(one + two + 100)"
      ],
      "metadata": {
        "colab": {
          "base_uri": "https://localhost:8080/"
        },
        "id": "L0-UY_m05nn-",
        "outputId": "bccd20c0-9c05-45ae-f10a-4413a499fda4"
      },
      "execution_count": null,
      "outputs": [
        {
          "output_type": "stream",
          "name": "stdout",
          "text": [
            "103\n"
          ]
        }
      ]
    },
    {
      "cell_type": "code",
      "source": [
        "class A:\n",
        "  print(\"Am I a Class\")\n",
        "\n",
        "A()"
      ],
      "metadata": {
        "colab": {
          "base_uri": "https://localhost:8080/"
        },
        "id": "DWRIHFwnH9TW",
        "outputId": "cf892111-39bb-4b8e-b52a-edbebbf61e21"
      },
      "execution_count": null,
      "outputs": [
        {
          "output_type": "stream",
          "name": "stdout",
          "text": [
            "Am I a Class\n"
          ]
        },
        {
          "output_type": "execute_result",
          "data": {
            "text/plain": [
              "<__main__.A at 0x7d473d8ffa10>"
            ]
          },
          "metadata": {},
          "execution_count": 31
        }
      ]
    },
    {
      "cell_type": "code",
      "source": [
        "class BankAccount:\n",
        "\n",
        "  def __init__(self, acc_no, amount):\n",
        "    self.acc_no = acc_no\n",
        "    self.amount = amount\n",
        "\n",
        "  def __add__(self, other):\n",
        "    return self.acc_no + other.acc_no\n",
        "  def CheckBalance(self):\n",
        "    print(f\"{self.acc_no} \\t {self.amount}\")\n",
        "\n",
        "ac1 = BankAccount(100, 1000)\n",
        "ac2 = BankAccount(101, 100)\n",
        "ac1 + ac2"
      ],
      "metadata": {
        "colab": {
          "base_uri": "https://localhost:8080/"
        },
        "id": "SLz6pMxkIKTC",
        "outputId": "a8be9a79-02ea-4bd4-fd01-ea4764dd05f4"
      },
      "execution_count": null,
      "outputs": [
        {
          "output_type": "execute_result",
          "data": {
            "text/plain": [
              "201"
            ]
          },
          "metadata": {},
          "execution_count": 37
        }
      ]
    },
    {
      "cell_type": "code",
      "source": [
        "class Student():\n",
        "\n",
        "    def __init__(self, marks1,marks2,credits1, credits2):\n",
        "        #YOUR CODE GOES HERE\n",
        "        self.marks = [marks1, marks2]\n",
        "        self.credits = [credits1, credits2]\n",
        "\n",
        "    def grade_point_average(self):\n",
        "        gpa=0\n",
        "        points = []\n",
        "        cs = []\n",
        "        for mark in self.marks:\n",
        "            if mark > 90:\n",
        "                points.append(10)\n",
        "            elif mark > 75:\n",
        "                points.append(9)\n",
        "            elif mark > 60:\n",
        "                points.append(8)\n",
        "            elif mark > 45:\n",
        "                points.append(7)\n",
        "            else:\n",
        "                points.append(0)\n",
        "\n",
        "        # print(points)\n",
        "        # print(self.credits)\n",
        "\n",
        "        for i in range(len(points)):\n",
        "          cs.append(points[i] * self.credits[i])\n",
        "\n",
        "        # print(cs)\n",
        "        css = sum(cs)\n",
        "        # print(css)\n",
        "        # print(sum(self.credits))\n",
        "\n",
        "\n",
        "        gpa = css/sum(self.credits)\n",
        "        # print(gpa)\n",
        "        return gpa\n",
        "\n",
        "\n",
        "\n",
        "\n",
        "st1 = Student(85, 76, 3, 4)\n",
        "st1.grade_point_average()"
      ],
      "metadata": {
        "id": "O8aeli17fZzP",
        "colab": {
          "base_uri": "https://localhost:8080/"
        },
        "outputId": "6f0a6c8c-a2b0-4b42-eba6-5290d0faa040"
      },
      "execution_count": null,
      "outputs": [
        {
          "output_type": "execute_result",
          "data": {
            "text/plain": [
              "9.0"
            ]
          },
          "metadata": {},
          "execution_count": 26
        }
      ]
    },
    {
      "cell_type": "markdown",
      "source": [],
      "metadata": {
        "id": "-qeS0eYifZoE"
      }
    },
    {
      "cell_type": "code",
      "source": [
        "class Parent:\n",
        "  def __init__(self):\n",
        "    pass\n",
        "  def print(self):\n",
        "    print(\"60\")\n",
        "\n",
        "class Child(Parent):\n",
        "  # def __init__(self):\n",
        "  #   super().__init__()\n",
        "  # def type(self):\n",
        "  #   self.print()\n",
        "  def __init__(self):\n",
        "    super().__init__()\n",
        "  def type(self):\n",
        "    super().print()\n",
        "\n",
        "\n",
        "\n",
        "C=Child()\n",
        "C.type()"
      ],
      "metadata": {
        "colab": {
          "base_uri": "https://localhost:8080/"
        },
        "id": "oNQtF-bigGd3",
        "outputId": "e729d4f4-633f-443e-a9bc-548f426240de"
      },
      "execution_count": null,
      "outputs": [
        {
          "output_type": "stream",
          "name": "stdout",
          "text": [
            "60\n"
          ]
        }
      ]
    },
    {
      "cell_type": "code",
      "source": [
        "class A:\n",
        "   def one(self):\n",
        "       return self.two()\n",
        "   def two(self):\n",
        "       return 'A'\n",
        "class B(A):\n",
        "   def two(self):\n",
        "       return 'B'\n",
        "obj= B()\n",
        "print(obj.one())"
      ],
      "metadata": {
        "id": "oFtZb86ylFV4"
      },
      "execution_count": null,
      "outputs": []
    },
    {
      "cell_type": "code",
      "source": [
        "class A:\n",
        "   def one(self):\n",
        "       return self.two()\n",
        "   def two(self):\n",
        "       return 'A'\n",
        "class B(A):\n",
        "   def two(self):\n",
        "       return 'B'\n",
        "obj= B()\n",
        "print(obj.one())"
      ],
      "metadata": {
        "colab": {
          "base_uri": "https://localhost:8080/"
        },
        "id": "QEpZz29Au39e",
        "outputId": "c7a89b9e-d8c5-4baa-8fde-b050b3089aa4"
      },
      "execution_count": null,
      "outputs": [
        {
          "output_type": "stream",
          "name": "stdout",
          "text": [
            "B\n"
          ]
        }
      ]
    },
    {
      "cell_type": "markdown",
      "source": [],
      "metadata": {
        "id": "L6ZY70660ZhX"
      }
    },
    {
      "cell_type": "code",
      "source": [
        "class A:\n",
        "  __a = 100\n",
        "  def test(self):\n",
        "    return self.__a\n",
        "\n",
        "obj = A()\n",
        "obj.test())\n",
        "\n",
        "\n",
        "\n",
        "\n"
      ],
      "metadata": {
        "colab": {
          "base_uri": "https://localhost:8080/",
          "height": 108
        },
        "id": "9tVmVyUk0aKI",
        "outputId": "1672abb6-8eb1-4869-c994-bd23f368b70c"
      },
      "execution_count": null,
      "outputs": [
        {
          "output_type": "error",
          "ename": "SyntaxError",
          "evalue": "unmatched ')' (<ipython-input-21-119928ddbd6c>, line 7)",
          "traceback": [
            "\u001b[0;36m  File \u001b[0;32m\"<ipython-input-21-119928ddbd6c>\"\u001b[0;36m, line \u001b[0;32m7\u001b[0m\n\u001b[0;31m    obj.test())\u001b[0m\n\u001b[0m              ^\u001b[0m\n\u001b[0;31mSyntaxError\u001b[0m\u001b[0;31m:\u001b[0m unmatched ')'\n"
          ]
        }
      ]
    },
    {
      "cell_type": "code",
      "source": [
        "lst = [2,4,5,9]"
      ],
      "metadata": {
        "id": "S9etZUij0vNt"
      },
      "execution_count": null,
      "outputs": []
    },
    {
      "cell_type": "code",
      "source": [
        "square = [x**2 for x in lst]\n",
        "print(square)"
      ],
      "metadata": {
        "colab": {
          "base_uri": "https://localhost:8080/"
        },
        "id": "JlTIAlK_MBif",
        "outputId": "f7e8606b-a87a-4f54-a7c9-a82c9e910f0b"
      },
      "execution_count": null,
      "outputs": [
        {
          "output_type": "stream",
          "name": "stdout",
          "text": [
            "[4, 16, 25, 81]\n"
          ]
        }
      ]
    },
    {
      "cell_type": "code",
      "source": [
        "lst = [2,3,4,5,6,7,8,9,10]\n",
        "\n",
        "\n",
        "def square(x):\n",
        "  square = []\n",
        "  for i in range(len(x)):\n",
        "    result = x[i]**2\n",
        "    square.append(result)\n",
        "  return square\n",
        "\n",
        "square(lst)\n",
        "    i += 1\n",
        "\n",
        "square(lst)\n"
      ],
      "metadata": {
        "colab": {
          "base_uri": "https://localhost:8080/",
          "height": 108
        },
        "id": "hDdK1uEDMiN3",
        "outputId": "79ceaad7-68b9-4811-93cc-3504ae9ec22c"
      },
      "execution_count": null,
      "outputs": [
        {
          "output_type": "error",
          "ename": "IndentationError",
          "evalue": "unexpected indent (<ipython-input-16-2343b4b898be>, line 12)",
          "traceback": [
            "\u001b[0;36m  File \u001b[0;32m\"<ipython-input-16-2343b4b898be>\"\u001b[0;36m, line \u001b[0;32m12\u001b[0m\n\u001b[0;31m    i += 1\u001b[0m\n\u001b[0m    ^\u001b[0m\n\u001b[0;31mIndentationError\u001b[0m\u001b[0;31m:\u001b[0m unexpected indent\n"
          ]
        }
      ]
    },
    {
      "cell_type": "code",
      "source": [
        "n =int(input())\n",
        "for i in range(n):\n",
        "    print(\"*\")\n",
        "    for j in range(n):\n",
        "        print(\"** \" )\n",
        "        for j in range(n):\n",
        "          print(\"*** \" )\n",
        "          for j in range(n):\n",
        "            print(\"**** \")\n",
        "            for j in range(n):\n",
        "                print(\"***** \")\n",
        "                break\n",
        "            break\n",
        "          break\n",
        "        break"
      ],
      "metadata": {
        "id": "38knphaFAANj",
        "colab": {
          "base_uri": "https://localhost:8080/"
        },
        "outputId": "0c8cd659-09d3-4345-b079-ee62fba784a4"
      },
      "execution_count": null,
      "outputs": [
        {
          "output_type": "stream",
          "name": "stdout",
          "text": [
            "fatal: not a git repository (or any of the parent directories): .git\n",
            "fatal: not a git repository (or any of the parent directories): .git\n"
          ]
        }
      ]
    },
    {
      "cell_type": "code",
      "source": [
        "n = int(input())\n",
        "for i in range(n):\n",
        "   n\n",
        "  print(\"n*i+1\" )"
      ],
      "metadata": {
        "colab": {
          "base_uri": "https://localhost:8080/"
        },
        "id": "KsBY8dv3xUPg",
        "outputId": "21f184a8-ecd2-48bf-bcdf-d7a3ab11ad79"
      },
      "execution_count": null,
      "outputs": [
        {
          "output_type": "stream",
          "name": "stdout",
          "text": [
            "5\n",
            "n*i+1\n",
            "n*i+1\n",
            "n*i+1\n",
            "n*i+1\n",
            "n*i+1\n"
          ]
        }
      ]
    },
    {
      "cell_type": "code",
      "source": [
        "n = int(input())\n",
        "for i in range(n):\n",
        "  for j in range(-i,1):\n",
        "    print(\"*\",end = \" \")\n",
        "  print()\n"
      ],
      "metadata": {
        "colab": {
          "base_uri": "https://localhost:8080/"
        },
        "id": "whj59d_7DpZe",
        "outputId": "94c2d8da-5563-4c90-e98e-5df5a3088ad3"
      },
      "execution_count": null,
      "outputs": [
        {
          "output_type": "stream",
          "name": "stdout",
          "text": [
            "20\n",
            "* \n",
            "* * \n",
            "* * * \n",
            "* * * * \n",
            "* * * * * \n",
            "* * * * * * \n",
            "* * * * * * * \n",
            "* * * * * * * * \n",
            "* * * * * * * * * \n",
            "* * * * * * * * * * \n",
            "* * * * * * * * * * * \n",
            "* * * * * * * * * * * * \n",
            "* * * * * * * * * * * * * \n",
            "* * * * * * * * * * * * * * \n",
            "* * * * * * * * * * * * * * * \n",
            "* * * * * * * * * * * * * * * * \n",
            "* * * * * * * * * * * * * * * * * \n",
            "* * * * * * * * * * * * * * * * * * \n",
            "* * * * * * * * * * * * * * * * * * * \n",
            "* * * * * * * * * * * * * * * * * * * * \n"
          ]
        }
      ]
    },
    {
      "cell_type": "code",
      "source": [
        "T = int(input()) ### Number of test case\n",
        "for i in range(T):\n",
        "  N = int(input())\n",
        "  N = []\n",
        "  result = reversed(N)\n",
        "return result\n"
      ],
      "metadata": {
        "colab": {
          "base_uri": "https://localhost:8080/",
          "height": 141
        },
        "id": "9TZJsIsq68gU",
        "outputId": "ae53aa18-21cb-43a8-a20a-a3726935cd00"
      },
      "execution_count": null,
      "outputs": [
        {
          "name": "stdout",
          "output_type": "stream",
          "text": [
            "1\n",
            "103\n"
          ]
        },
        {
          "output_type": "error",
          "ename": "SyntaxError",
          "evalue": "'return' outside function (<ipython-input-87-b256571d3371>, line 6)",
          "traceback": [
            "\u001b[0;36m  File \u001b[0;32m\"<ipython-input-87-b256571d3371>\"\u001b[0;36m, line \u001b[0;32m6\u001b[0m\n\u001b[0;31m    return result\u001b[0m\n\u001b[0m    ^\u001b[0m\n\u001b[0;31mSyntaxError\u001b[0m\u001b[0;31m:\u001b[0m 'return' outside function\n"
          ]
        }
      ]
    },
    {
      "cell_type": "code",
      "source": [
        "def solve_test_cases():\n",
        "    T = int(input())  # Number of test cases\n",
        "    results = []\n",
        "    for i in range(T):\n",
        "        N = int(input())\n",
        "    # This will be an empty list, is that intended?\n",
        "        results.append(N)\n",
        "        print(results) # Store the result\n",
        "        reverse = results[-1::]\n",
        "    return reverse"
      ],
      "metadata": {
        "id": "IoIITJdN-jpT"
      },
      "execution_count": null,
      "outputs": []
    },
    {
      "cell_type": "code",
      "source": [
        "print(solve_test_cases())"
      ],
      "metadata": {
        "colab": {
          "base_uri": "https://localhost:8080/"
        },
        "id": "tILURkd_-ubC",
        "outputId": "673e1770-3a29-4212-a85d-d3a3d51eaecb"
      },
      "execution_count": null,
      "outputs": [
        {
          "output_type": "stream",
          "name": "stdout",
          "text": [
            "1\n",
            "12345\n",
            "[12345]\n",
            "[12345]\n"
          ]
        }
      ]
    },
    {
      "cell_type": "code",
      "source": [
        "def solve_test_cases():\n",
        "    T = int(input())  # Number of test cases\n",
        "    results = []\n",
        "\n",
        "    for _ in range(T):\n",
        "        N = int(input())  # Read integer input\n",
        "        results.append(N)  # Store the result\n",
        "\n",
        "    return results[::-1]  # Return the reversed list\n"
      ],
      "metadata": {
        "id": "9cqY82KmAeZ0"
      },
      "execution_count": null,
      "outputs": []
    },
    {
      "cell_type": "code",
      "source": [
        "print(solve_test_cases())\n"
      ],
      "metadata": {
        "colab": {
          "base_uri": "https://localhost:8080/"
        },
        "id": "JEWbMeuUAiZ9",
        "outputId": "bbcbd612-b374-462b-987e-33b4497112cd"
      },
      "execution_count": null,
      "outputs": [
        {
          "output_type": "stream",
          "name": "stdout",
          "text": [
            "1\n",
            "12345\n",
            "[12345]\n"
          ]
        }
      ]
    },
    {
      "cell_type": "code",
      "source": [
        "def solve_test_cases():\n",
        "    T = int(input(\"Enter number of test cases: \"))  # Read number of test cases\n",
        "    results = []\n",
        "\n",
        "    for _ in range(T):\n",
        "        N = int(input(\"Enter a number: \"))  # Read integer input\n",
        "        results.append(N)  # Store the result\n",
        "\n",
        "    return results[::-1]  # Return the reversed list\n",
        "\n",
        "# Running the function and printing output\n",
        "print(solve_test_cases())\n"
      ],
      "metadata": {
        "colab": {
          "base_uri": "https://localhost:8080/"
        },
        "id": "x3wdFcT4BFde",
        "outputId": "c95d4f88-e1a7-4ae3-80c6-3eb7dcded182"
      },
      "execution_count": null,
      "outputs": [
        {
          "output_type": "stream",
          "name": "stdout",
          "text": [
            "Enter number of test cases: 1\n",
            "Enter a number: 123456\n",
            "[123456]\n"
          ]
        }
      ]
    },
    {
      "cell_type": "code",
      "source": [
        "def solve_test_cases():\n",
        "    T = int(input(\"Enter number of test cases: \"))  # Number of test cases\n",
        "    results = []\n",
        "\n",
        "    for _ in range(T):\n",
        "        N = int(input(\"Enter a number: \"))  # Read integer input\n",
        "        reversed_number = int(str(N)[::-1])  # Reverse the digits\n",
        "        results.append(reversed_number)  # Store the reversed number\n",
        "\n",
        "    return results\n",
        "\n",
        "print(solve_test_cases())  # Ensure the output is displayed\n"
      ],
      "metadata": {
        "colab": {
          "base_uri": "https://localhost:8080/"
        },
        "id": "xFnUAx0MB1Iq",
        "outputId": "a3565c93-eaf2-4ef1-e5e9-c23dbe3a6c7b"
      },
      "execution_count": null,
      "outputs": [
        {
          "output_type": "stream",
          "name": "stdout",
          "text": [
            "Enter number of test cases: 1\n",
            "Enter a number: 12345\n",
            "[54321]\n"
          ]
        }
      ]
    },
    {
      "cell_type": "code",
      "source": [
        "T = int(input())\n",
        "x = []\n",
        "for i in range(T):\n",
        "    N = int(input())\n",
        "    for j in range(N):\n",
        "        x.append(j)\n",
        "        y = reversed(x)\n",
        "    print(y)"
      ],
      "metadata": {
        "colab": {
          "base_uri": "https://localhost:8080/"
        },
        "id": "vrLRUX5WIpd1",
        "outputId": "e9c7dd11-573c-4f10-8ef3-aac0fbfb1fb1"
      },
      "execution_count": null,
      "outputs": [
        {
          "output_type": "stream",
          "name": "stdout",
          "text": [
            "1\n",
            "1234\n",
            "<list_reverseiterator object at 0x782e9cb490c0>\n"
          ]
        }
      ]
    },
    {
      "cell_type": "code",
      "source": [
        "T = int(input())  # Number of test cases\n",
        "\n",
        "for i in range(T):\n",
        "    A = int(input())  # First number\n",
        "    B = int(input())  # Second number\n",
        "    min_num = min(A, B)\n",
        "\n",
        "    while True:\n",
        "        if min_num % A == 0 and min_num % B == 0:\n",
        "            print(min_num)  # Found LCM\n",
        "            break\n",
        "        min_num += 1  # Try the next multiple\n"
      ],
      "metadata": {
        "colab": {
          "base_uri": "https://localhost:8080/"
        },
        "id": "midmBtMYS2Mc",
        "outputId": "4e97525b-5809-4c3d-db8b-daa37b2b463e"
      },
      "execution_count": null,
      "outputs": [
        {
          "output_type": "stream",
          "name": "stdout",
          "text": [
            "1\n",
            "6\n",
            "8\n",
            "24\n"
          ]
        }
      ]
    },
    {
      "cell_type": "code",
      "source": [
        "A = int(input())\n",
        "for i in range(A):\n",
        "    x = x[::-1]\n",
        "    print(x)"
      ],
      "metadata": {
        "colab": {
          "base_uri": "https://localhost:8080/"
        },
        "id": "vM6YHbeecesJ",
        "outputId": "ed5402b5-81b0-46bb-d291-7a27df4653e8"
      },
      "execution_count": null,
      "outputs": [
        {
          "output_type": "stream",
          "name": "stdout",
          "text": [
            "1\n",
            "[100, 98, 96, 94, 92, 90, 88, 86, 84, 82, 80, 78, 76, 74, 72, 70, 68, 66, 64, 62, 60, 58, 56, 54, 52, 50, 48, 46, 44, 42, 40, 38, 36, 34, 32, 30, 28, 26, 24, 22, 20, 18, 16, 14, 12, 10, 8, 6, 4, 2, 0, 100, 100, 1, 3, 5, 7, 9, 11, 13, 15, 17, 19, 21, 23, 25, 27, 29, 31, 33, 35, 37, 39, 41, 43, 45, 47, 49, 51, 53, 55, 57, 59, 61, 63, 65, 67, 69, 71, 73, 75, 77, 79, 81, 83, 85, 87, 89, 91, 93, 95, 97, 99]\n"
          ]
        }
      ]
    },
    {
      "cell_type": "code",
      "source": [
        "a=int(input())\n",
        "rev=str(a)\n",
        "if rev==rev[-1::-1]:\n",
        "    print(\"Yes\")\n",
        "else:\n",
        "    print(\"No\")"
      ],
      "metadata": {
        "colab": {
          "base_uri": "https://localhost:8080/"
        },
        "id": "tjiuiIO9eDzx",
        "outputId": "2076f871-1eff-4149-f61a-f0d6eac85b1d"
      },
      "execution_count": null,
      "outputs": [
        {
          "output_type": "stream",
          "name": "stdout",
          "text": [
            "121\n",
            "Yes\n"
          ]
        }
      ]
    },
    {
      "cell_type": "code",
      "source": [
        "N = int(input())\n",
        "for i in range(N):\n",
        "    print(i, end= \" \")\n",
        "    for j in (i,1):\n",
        "        print(j, end = \" \")"
      ],
      "metadata": {
        "colab": {
          "base_uri": "https://localhost:8080/"
        },
        "id": "3YLKA_DokZ4b",
        "outputId": "4f1982e0-a9e4-4eca-ef4b-ecdbe22906b2"
      },
      "execution_count": null,
      "outputs": [
        {
          "output_type": "stream",
          "name": "stdout",
          "text": [
            "3\n",
            "0 0 1 1 1 1 2 2 1 "
          ]
        }
      ]
    },
    {
      "cell_type": "code",
      "source": [
        "n = int(input())\n",
        "for i in range(1,n):\n",
        "  for j in range(n-1,1,-1):\n",
        "    print(j,end = \" \")\n",
        "  print()"
      ],
      "metadata": {
        "colab": {
          "base_uri": "https://localhost:8080/"
        },
        "id": "cPCF_mltkwLQ",
        "outputId": "7f1f0750-9b58-4231-b527-45fbe3116e71"
      },
      "execution_count": null,
      "outputs": [
        {
          "output_type": "stream",
          "name": "stdout",
          "text": [
            "5\n",
            "4 3 2 \n",
            "4 3 2 \n",
            "4 3 2 \n",
            "4 3 2 \n"
          ]
        }
      ]
    },
    {
      "cell_type": "code",
      "source": [
        "import numpy as np\n",
        "arr = np.arr[131, 150, 140, 142, 152]\n",
        "arr"
      ],
      "metadata": {
        "colab": {
          "base_uri": "https://localhost:8080/",
          "height": 297
        },
        "id": "c7iFl6xQGXQC",
        "outputId": "4d3c6e74-43b9-457c-f309-fff6954d64a3"
      },
      "execution_count": null,
      "outputs": [
        {
          "output_type": "error",
          "ename": "AttributeError",
          "evalue": "module 'numpy' has no attribute 'arr'",
          "traceback": [
            "\u001b[0;31m---------------------------------------------------------------------------\u001b[0m",
            "\u001b[0;31mAttributeError\u001b[0m                            Traceback (most recent call last)",
            "\u001b[0;32m<ipython-input-6-4ee3a72532a4>\u001b[0m in \u001b[0;36m<cell line: 0>\u001b[0;34m()\u001b[0m\n\u001b[1;32m      1\u001b[0m \u001b[0;32mimport\u001b[0m \u001b[0mnumpy\u001b[0m \u001b[0;32mas\u001b[0m \u001b[0mnp\u001b[0m\u001b[0;34m\u001b[0m\u001b[0;34m\u001b[0m\u001b[0m\n\u001b[0;32m----> 2\u001b[0;31m \u001b[0marr\u001b[0m \u001b[0;34m=\u001b[0m \u001b[0mnp\u001b[0m\u001b[0;34m.\u001b[0m\u001b[0marr\u001b[0m\u001b[0;34m[\u001b[0m\u001b[0;36m131\u001b[0m\u001b[0;34m,\u001b[0m \u001b[0;36m150\u001b[0m\u001b[0;34m,\u001b[0m \u001b[0;36m140\u001b[0m\u001b[0;34m,\u001b[0m \u001b[0;36m142\u001b[0m\u001b[0;34m,\u001b[0m \u001b[0;36m152\u001b[0m\u001b[0;34m]\u001b[0m\u001b[0;34m\u001b[0m\u001b[0;34m\u001b[0m\u001b[0m\n\u001b[0m\u001b[1;32m      3\u001b[0m \u001b[0marr\u001b[0m\u001b[0;34m\u001b[0m\u001b[0;34m\u001b[0m\u001b[0m\n",
            "\u001b[0;32m/usr/local/lib/python3.11/dist-packages/numpy/__init__.py\u001b[0m in \u001b[0;36m__getattr__\u001b[0;34m(attr)\u001b[0m\n\u001b[1;32m    331\u001b[0m             \u001b[0;32mraise\u001b[0m \u001b[0mRuntimeError\u001b[0m\u001b[0;34m(\u001b[0m\u001b[0;34m\"Tester was removed in NumPy 1.25.\"\u001b[0m\u001b[0;34m)\u001b[0m\u001b[0;34m\u001b[0m\u001b[0;34m\u001b[0m\u001b[0m\n\u001b[1;32m    332\u001b[0m \u001b[0;34m\u001b[0m\u001b[0m\n\u001b[0;32m--> 333\u001b[0;31m         raise AttributeError(\"module {!r} has no attribute \"\n\u001b[0m\u001b[1;32m    334\u001b[0m                              \"{!r}\".format(__name__, attr))\n\u001b[1;32m    335\u001b[0m \u001b[0;34m\u001b[0m\u001b[0m\n",
            "\u001b[0;31mAttributeError\u001b[0m: module 'numpy' has no attribute 'arr'"
          ]
        }
      ]
    },
    {
      "cell_type": "code",
      "source": [],
      "metadata": {
        "id": "mpgpI9QUGrbt"
      },
      "execution_count": null,
      "outputs": []
    }
  ]
}