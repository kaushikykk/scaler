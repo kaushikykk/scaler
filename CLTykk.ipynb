{
  "nbformat": 4,
  "nbformat_minor": 0,
  "metadata": {
    "colab": {
      "private_outputs": true,
      "provenance": [],
      "authorship_tag": "ABX9TyMpZ5ZQCgRa27cmD0K5Ylpz",
      "include_colab_link": true
    },
    "kernelspec": {
      "name": "python3",
      "display_name": "Python 3"
    },
    "language_info": {
      "name": "python"
    }
  },
  "cells": [
    {
      "cell_type": "markdown",
      "metadata": {
        "id": "view-in-github",
        "colab_type": "text"
      },
      "source": [
        "<a href=\"https://colab.research.google.com/github/kaushikykk/scaler/blob/main/CLTykk.ipynb\" target=\"_parent\"><img src=\"https://colab.research.google.com/assets/colab-badge.svg\" alt=\"Open In Colab\"/></a>"
      ]
    },
    {
      "cell_type": "markdown",
      "source": [],
      "metadata": {
        "id": "QSFywk2eqYFH"
      }
    },
    {
      "cell_type": "markdown",
      "source": [
        "!wget --no-check-certificate https://drive.google.com/uc?id=1Mrt008vkE4nVb1zE4f06_rtq70QPfkIo -O weight-height.csv"
      ],
      "metadata": {
        "id": "e7RnsOOxqXTC"
      }
    },
    {
      "cell_type": "code",
      "source": [
        "!wget --no-check-certificate https://drive.google.com/uc?id=1Mrt008vkE4nVb1zE4f06_rtq70QPfkIo -O weight-height.csv\n"
      ],
      "metadata": {
        "id": "EQ-FKKK2qi0i"
      },
      "execution_count": null,
      "outputs": []
    },
    {
      "cell_type": "code",
      "source": [
        "import numpy as np\n",
        "import pandas as pd\n",
        "import seaborn as sns\n",
        "import matplotlib.pyplot as plt\n",
        "from scipy.stats import norm\n",
        "\n",
        "\n",
        "\n",
        "df_train = pd.read_csv('weight-height.csv')\n",
        "df_train.head()"
      ],
      "metadata": {
        "id": "_gY6JLisqqcj"
      },
      "execution_count": null,
      "outputs": []
    },
    {
      "cell_type": "code",
      "source": [
        "sns.histplot(df_train['Height'])\n"
      ],
      "metadata": {
        "id": "ljaJmZTpq_mC"
      },
      "execution_count": null,
      "outputs": []
    },
    {
      "cell_type": "code",
      "source": [
        "sns.histplot(df_train['Weight'])"
      ],
      "metadata": {
        "id": "X9HPT0JBrF0A"
      },
      "execution_count": null,
      "outputs": []
    },
    {
      "cell_type": "code",
      "source": [
        "mu, sigma = df_train['Weight'].mean(), df_train['Weight'].std()\n",
        "print(\"Population:\", mu, sigma)"
      ],
      "metadata": {
        "id": "jpFOLCqFrLpI"
      },
      "execution_count": null,
      "outputs": []
    },
    {
      "cell_type": "code",
      "source": [
        "# Lets do sampling\n",
        "n = 5\n",
        "\n",
        "df_train[\"Weight\"].sample(n)"
      ],
      "metadata": {
        "id": "s_z11thwr5T6"
      },
      "execution_count": null,
      "outputs": []
    },
    {
      "cell_type": "code",
      "source": [
        "sd_5 = []\n",
        "\n",
        "\n",
        "for i in range (1000):\n",
        "  sd_5.append(np.mean(df_train[\"Weight\"].sample(n)))\n",
        "sd_5 = np.array(sd_5)\n",
        "len(sd_5)\n",
        "sns.histplot(sd_5, kde=True)"
      ],
      "metadata": {
        "id": "0yj4l2drtjfx"
      },
      "execution_count": null,
      "outputs": []
    },
    {
      "cell_type": "code",
      "source": [
        "mu, sigma = np.mean(sd_5), np.std(sd_5)\n",
        "print(\"SD 5:\", mu, sigma)"
      ],
      "metadata": {
        "id": "Z8CY3TCJurj7"
      },
      "execution_count": null,
      "outputs": []
    },
    {
      "cell_type": "code",
      "source": [
        "n = 30\n",
        "\n",
        "df_train[\"Weight\"].sample(n)\n",
        "\n",
        "sd_30 = []\n",
        "\n",
        "\n",
        "for i in range (1000):\n",
        "  sd_30.append(np.mean(df_train[\"Weight\"].sample(n)))\n",
        "sd_30 = np.array(sd_5)\n",
        "len(sd_30)\n",
        "sns.histplot(sd_30, kde=True)"
      ],
      "metadata": {
        "id": "Lmk51HbXvwf1"
      },
      "execution_count": null,
      "outputs": []
    },
    {
      "cell_type": "code",
      "source": [
        "mu , sigma = np.mean(sd_30), np.std(sd_30)\n",
        "print(\"SD 30:\", mu, sigma)"
      ],
      "metadata": {
        "id": "h_VKRubSwJwD"
      },
      "execution_count": null,
      "outputs": []
    },
    {
      "cell_type": "code",
      "source": [
        "\n",
        "from scipy.stats import norm\n",
        "norm.cdf(0.79))\n"
      ],
      "metadata": {
        "id": "spShSE3y1JGb"
      },
      "execution_count": null,
      "outputs": []
    },
    {
      "cell_type": "code",
      "source": [
        "mu = 80\n",
        "n = 50\n",
        "sig_sample = 15\n",
        "x = 75\n",
        "\n",
        "\n",
        "se = sig_sample/np.sqrt(n)\n",
        "print(se)"
      ],
      "metadata": {
        "id": "AjX8sZnU1esY"
      },
      "execution_count": null,
      "outputs": []
    },
    {
      "cell_type": "code",
      "source": [
        "z = (x - mu)/se\n",
        "print(z)"
      ],
      "metadata": {
        "id": "k4xfgTXt7w9V"
      },
      "execution_count": null,
      "outputs": []
    },
    {
      "cell_type": "code",
      "source": [
        "norm.pmf(-1.79)"
      ],
      "metadata": {
        "id": "HYuhXAX08Wjl"
      },
      "execution_count": null,
      "outputs": []
    },
    {
      "cell_type": "code",
      "source": [
        "norm.ppf(0.025)"
      ],
      "metadata": {
        "id": "u55JKhavBMxL"
      },
      "execution_count": null,
      "outputs": []
    },
    {
      "cell_type": "code",
      "source": [
        "norm.ppf(0.975)"
      ],
      "metadata": {
        "id": "5LXAYCXVBWba"
      },
      "execution_count": null,
      "outputs": []
    },
    {
      "cell_type": "code",
      "source": [
        "mu = 165\n",
        "se = 0.8\n",
        "norm.interval(0.90, loc=mu, scale=se)"
      ],
      "metadata": {
        "id": "z7ilK_cfBTO0"
      },
      "execution_count": null,
      "outputs": []
    },
    {
      "cell_type": "code",
      "source": [],
      "metadata": {
        "id": "5clzr36oE5zw"
      },
      "execution_count": null,
      "outputs": []
    },
    {
      "cell_type": "code",
      "source": [
        "norm.cdf(-1.97)"
      ],
      "metadata": {
        "id": "ufs0VCzTLAAL"
      },
      "execution_count": null,
      "outputs": []
    },
    {
      "cell_type": "code",
      "source": [
        "norm.cdf(2.23613595706619)"
      ],
      "metadata": {
        "id": "SFGWYNN0LB6Z"
      },
      "execution_count": null,
      "outputs": []
    },
    {
      "cell_type": "code",
      "source": [
        "0.5/np.sqrt(5)"
      ],
      "metadata": {
        "id": "7uW6eb3VOqKc"
      },
      "execution_count": null,
      "outputs": []
    },
    {
      "cell_type": "code",
      "source": [
        "se = 0.2236\n",
        "z = 0.5/se\n",
        "z"
      ],
      "metadata": {
        "id": "kaoL5MpXO2zk"
      },
      "execution_count": null,
      "outputs": []
    },
    {
      "cell_type": "code",
      "source": [
        "se = 188/np.sqrt(35)\n",
        "se"
      ],
      "metadata": {
        "id": "8l42bwItQWmZ"
      },
      "execution_count": null,
      "outputs": []
    },
    {
      "cell_type": "code",
      "source": [
        "mu = 1000\n",
        "x1 = 947.4 - 1000\n",
        "x1\n",
        "z = x1/se\n",
        "z"
      ],
      "metadata": {
        "id": "ExGSzhN0QmOI"
      },
      "execution_count": null,
      "outputs": []
    },
    {
      "cell_type": "code",
      "source": [
        "norm.cdf(z)"
      ],
      "metadata": {
        "id": "qsOBfghrRHWj"
      },
      "execution_count": null,
      "outputs": []
    },
    {
      "cell_type": "code",
      "source": [
        "from scipy.stats import poisson\n",
        "\n",
        "poisson.pmf(k=6, mu=3)"
      ],
      "metadata": {
        "id": "p_-TYjupExUz"
      },
      "execution_count": null,
      "outputs": []
    },
    {
      "cell_type": "code",
      "source": [
        "poisson.cdf(k=1, mu=3)"
      ],
      "metadata": {
        "id": "lhlr4A1EN4vu"
      },
      "execution_count": null,
      "outputs": []
    },
    {
      "cell_type": "code",
      "source": [
        "500/365"
      ],
      "metadata": {
        "id": "0ClqUT_TQCBP"
      },
      "execution_count": null,
      "outputs": []
    }
  ]
}