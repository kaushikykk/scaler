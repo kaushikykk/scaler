{
  "nbformat": 4,
  "nbformat_minor": 0,
  "metadata": {
    "colab": {
      "private_outputs": true,
      "provenance": [],
      "authorship_tag": "ABX9TyNUowxEH210btIuecngvte8",
      "include_colab_link": true
    },
    "kernelspec": {
      "name": "python3",
      "display_name": "Python 3"
    },
    "language_info": {
      "name": "python"
    }
  },
  "cells": [
    {
      "cell_type": "markdown",
      "metadata": {
        "id": "view-in-github",
        "colab_type": "text"
      },
      "source": [
        "<a href=\"https://colab.research.google.com/github/kaushikykk/scaler/blob/main/CLTykk.ipynb\" target=\"_parent\"><img src=\"https://colab.research.google.com/assets/colab-badge.svg\" alt=\"Open In Colab\"/></a>"
      ]
    },
    {
      "cell_type": "markdown",
      "source": [],
      "metadata": {
        "id": "QSFywk2eqYFH"
      }
    },
    {
      "cell_type": "markdown",
      "source": [
        "!wget --no-check-certificate https://drive.google.com/uc?id=1Mrt008vkE4nVb1zE4f06_rtq70QPfkIo -O weight-height.csv"
      ],
      "metadata": {
        "id": "e7RnsOOxqXTC"
      }
    },
    {
      "cell_type": "code",
      "source": [
        "!wget --no-check-certificate https://drive.google.com/uc?id=1Mrt008vkE4nVb1zE4f06_rtq70QPfkIo -O weight-height.csv\n"
      ],
      "metadata": {
        "id": "EQ-FKKK2qi0i"
      },
      "execution_count": null,
      "outputs": []
    },
    {
      "cell_type": "code",
      "source": [
        "import numpy as np\n",
        "import pandas as pd\n",
        "import seaborn as sns\n",
        "import matplotlib.pyplot as plt\n",
        "from scipy.stats import norm\n",
        "\n",
        "\n",
        "\n",
        "df_train = pd.read_csv('weight-height.csv')\n",
        "df_train.head()"
      ],
      "metadata": {
        "id": "_gY6JLisqqcj"
      },
      "execution_count": null,
      "outputs": []
    },
    {
      "cell_type": "code",
      "source": [
        "sns.histplot(df_train['Height'])\n"
      ],
      "metadata": {
        "id": "ljaJmZTpq_mC"
      },
      "execution_count": null,
      "outputs": []
    },
    {
      "cell_type": "code",
      "source": [
        "sns.histplot(df_train['Weight'])"
      ],
      "metadata": {
        "id": "X9HPT0JBrF0A"
      },
      "execution_count": null,
      "outputs": []
    },
    {
      "cell_type": "code",
      "source": [
        "mu, sigma = df_train['Weight'].mean(), df_train['Weight'].std()\n",
        "print(\"Population:\", mu, sigma)"
      ],
      "metadata": {
        "id": "jpFOLCqFrLpI"
      },
      "execution_count": null,
      "outputs": []
    },
    {
      "cell_type": "code",
      "source": [
        "# Lets do sampling\n",
        "n = 5\n",
        "\n",
        "df_train[\"Weight\"].sample(n)"
      ],
      "metadata": {
        "id": "s_z11thwr5T6"
      },
      "execution_count": null,
      "outputs": []
    },
    {
      "cell_type": "code",
      "source": [
        "sd_5 = []\n",
        "\n",
        "\n",
        "for i in range (1000):\n",
        "  sd_5.append(np.mean(df_train[\"Weight\"].sample(n)))\n",
        "sd_5 = np.array(sd_5)\n",
        "len(sd_5)\n",
        "sns.histplot(sd_5, kde=True)"
      ],
      "metadata": {
        "id": "0yj4l2drtjfx"
      },
      "execution_count": null,
      "outputs": []
    },
    {
      "cell_type": "code",
      "source": [
        "mu, sigma = np.mean(sd_5), np.std(sd_5)\n",
        "print(\"SD 5:\", mu, sigma)"
      ],
      "metadata": {
        "id": "Z8CY3TCJurj7"
      },
      "execution_count": null,
      "outputs": []
    },
    {
      "cell_type": "code",
      "source": [
        "n = 30\n",
        "\n",
        "df_train[\"Weight\"].sample(n)\n",
        "\n",
        "sd_30 = []\n",
        "\n",
        "\n",
        "for i in range (1000):\n",
        "  sd_30.append(np.mean(df_train[\"Weight\"].sample(n)))\n",
        "sd_30 = np.array(sd_5)\n",
        "len(sd_30)\n",
        "sns.histplot(sd_30, kde=True)"
      ],
      "metadata": {
        "id": "Lmk51HbXvwf1"
      },
      "execution_count": null,
      "outputs": []
    },
    {
      "cell_type": "code",
      "source": [
        "mu , sigma = np.mean(sd_30), np.std(sd_30)\n",
        "print(\"SD 30:\", mu, sigma)"
      ],
      "metadata": {
        "id": "h_VKRubSwJwD"
      },
      "execution_count": null,
      "outputs": []
    }
  ]
}