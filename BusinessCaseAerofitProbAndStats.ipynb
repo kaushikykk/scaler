{
  "nbformat": 4,
  "nbformat_minor": 0,
  "metadata": {
    "colab": {
      "private_outputs": true,
      "provenance": [],
      "authorship_tag": "ABX9TyONVT9pg87S2uExGTPLXAqz",
      "include_colab_link": true
    },
    "kernelspec": {
      "name": "python3",
      "display_name": "Python 3"
    },
    "language_info": {
      "name": "python"
    }
  },
  "cells": [
    {
      "cell_type": "markdown",
      "metadata": {
        "id": "view-in-github",
        "colab_type": "text"
      },
      "source": [
        "<a href=\"https://colab.research.google.com/github/kaushikykk/scaler/blob/main/BusinessCaseAerofitProbAndStats.ipynb\" target=\"_parent\"><img src=\"https://colab.research.google.com/assets/colab-badge.svg\" alt=\"Open In Colab\"/></a>"
      ]
    },
    {
      "cell_type": "markdown",
      "source": [
        "# **BusinesCase2 AeroFit:**\n",
        "\n",
        "<font color='red'>\n",
        "1.Defining Problem Statement and Analysing basic metrics\n",
        "</font>\n",
        "\n",
        "I will analyze AeroFit's customer data to identify patterns in treadmill purchases across its three models. Using demographic attributes like age, income, marital status, fitness level, and treadmill usage, I aim to profile customers and develop a data-driven marketing strategy to optimize recommendations and drive sales.\n",
        "\n",
        "I will begin with descriptive analytics to summarize key metrics like mean, median, and distribution across customer attributes, perform Outlier detection using boxplots and statistical measures to ensure data accuracy. Use Categorical analysis with countplots, histograms, and cross-tabulations to help identify trends in customer demographics and treadmill purchases. Observe Correlations using heatmaps and pair plots to map relationships between factors like income, fitness level, and treadmill preference. Finally, I will compute marginal and conditional probabilities to assess purchase likelihood and derive actionable insights for targeted marketing and product positioning.\n",
        "\n",
        "<font color='red'>\n",
        "Analysing basic metrics,\n",
        "Observations on shape of data, data types of all the attributes, conversion of categorical attributes to 'category' (If required), statistical summary?\n",
        "</font>\n",
        "\n",
        "From the basic metrics, we can infer that the DataSet contains\n",
        "\n",
        "\n",
        "*   180 rows\n",
        "*   9 Columns - 8 attributes for each record\n",
        "*   No Missing Values\n",
        "*   No Null Values\n",
        "\n",
        "\n",
        "<font color='red'>\n",
        "Non-Graphical Analysis: Value counts and unique attributes ​​(10 Points)\n",
        "</font>\n",
        "\n",
        "Major Value counts and Unique attributes observed are\n",
        "*   3 catagorical attibutes - Gender, MaritalStatus and Fitness.\n",
        "*   3 Unique product counts - KP281, KP481, KP781\n",
        "*   Median age is around 28 years and there are few outliers.\n",
        "*   5 differnt fitness levels\n",
        "\n",
        "<font color='red'>\n",
        "Visual Analysis - Univariate & Bivariate (30 Points)\n",
        "For continuous variable(s): Distplot, countplot, histogram for univariate analysis (10 Points)\n",
        "For categorical variable(s): Boxplot (10 Points)\n",
        "# For correlation: Heatmaps, Pairplots(10 Points)\n",
        "</font>\n",
        "\n",
        "\n",
        "We can infer that there are 3 continious variables -\n",
        "*   Age\n",
        "*   Income\n",
        "*   Miles.\n",
        "\n",
        "The histograms show that income, age, and miles are all right-skewed, indicating a majority of customers fall within specific ranges. Most customers earn above $40K and are aged between 20-50. For premium treadmills, the key audience is high-mileage runners and fitness-focused users, as they are the most likely to invest in advanced features.\n",
        "\n",
        "<font color='red'>\n",
        "4.Missing Value & Outlier Detection (10 Points)\n",
        "</font>\n",
        "No Missing Values: The dataset appears complete, indicating high data quality with no missing or null entries.\n",
        "Outliers in Age & Income: A few outliers in Age and Income suggest the presence of exceptionally high earners or older individuals.\n",
        "Skewed Distributions: The right-skewed nature of Income, Age, and Miles confirms that most customers fall within a specific range, with a few extreme values.\n",
        "<font color='red'>\n",
        "Business Insights based on Non-Graphical and Visual Analysis (10 Points)\n",
        "Comments on the range of attributes\n",
        "Comments on the distribution of the variables and relationship between them\n",
        "Comments for each univariate and bivariate plot\n",
        "</font>\n",
        "The dataset is of high quality with no missing values, ensuring reliable analysis. The customer base spans a wide range, with ages primarily between 20 and 50 years. Income distribution shows that most customers earn between 40,000 and 70,000 dollars, with a few high-income earners exceeding 100,000 dollars. The number of miles run per week varies significantly, but most users fall within the range of 5 to 20 miles. Fitness levels indicate that the majority of customers are moderately fit, engaging in regular but not elite fitness routines.\n",
        "\n",
        "The data distributions for age, income, and miles are all right-skewed, meaning that while most customers fall within a specific range, a small number of outliers exist. A moderate correlation is observed between income and age, suggesting that older individuals tend to earn more. The number of miles run per week is strongly correlated with fitness level, indicating that higher fitness levels correspond to more frequent treadmill use. Product preference is also influenced by both income and fitness level, with premium treadmill buyers tending to have higher incomes and running more miles per week.\n",
        "\n",
        "Histograms show that income is skewed towards lower earnings, with the majority of users earning under 70,000 dollars. Age distribution is concentrated in the 20 to 50-year-old range, and miles run per week follows a similar pattern, with only a small group of high-mileage users. Boxplots highlight the presence of outliers in both age and income, indicating a few high-earning or older customers who deviate from the typical range. The number of miles run per week also has outliers, likely representing marathon trainers or serious fitness enthusiasts.\n",
        "\n",
        "The correlation analysis provides additional insights into customer behavior. Higher-income individuals prefer premium treadmills like the KP781, while lower-income groups are more likely to purchase entry-level models. Fitness level and miles run per week are closely linked, with more frequent treadmill users generally having higher fitness levels. However, age does not have a strong correlation with miles run, suggesting that fitness habits vary regardless of age.\n",
        "\n",
        "From a business perspective, these insights suggest distinct customer segments for each treadmill model. The KP281 entry-level treadmill should be marketed to younger, lower-income customers as a budget-friendly and beginner-friendly option. The KP481 mid-level treadmill appeals to middle-income, moderately fit individuals, making durability, tracking features, and value-for-money key selling points. The KP781 premium treadmill is best suited for high-income, high-fitness individuals, and marketing should emphasize its advanced performance features and premium appeal. Further segmentation could refine these strategies and improve targeted marketing efforts.\n",
        "\n",
        "<font color='red'>\n",
        "Recommendations (10 Points) - Actionable items for business. No technical jargon. No complications. Simple action items that everyone can understand\n",
        "</font>\n",
        "\n",
        "Though the data quality is high, the sample size of 180 rows suggests that more data collection could improve the accuracy of insights. However, based on the available data, customer profiles for each treadmill model show clear differences in preferences and purchasing behavior.\n",
        "\n",
        "The entry-level KP281 is best suited for young adults who are just starting their careers. Its affordability makes it an easy sell, and targeting beginners and new young adults will continue to generate steady revenue. Marketing efforts should focus on affordability, ease of use, and fitness initiation to attract first-time treadmill buyers.\n",
        "\n",
        "The mid-level KP481 appeals to individuals with moderate fitness levels, stable incomes, and slightly older age groups compared to entry-level users. These customers seek value-for-money products with good durability and features that support a more active lifestyle. Positioning this treadmill as a long-term investment in fitness, with reliable performance and additional tracking features, will help in driving sales.\n",
        "\n",
        "The KP781 premium treadmill is purchased mainly by high-income individuals with above-average fitness levels. Interestingly, more females tend to buy this model than males, indicating that some premium features may not appeal to male customers. The company should analyze what features drive female interest and explore ways to make the product more appealing to a broader audience, including high-income male buyers.\n",
        "\n",
        "Married or partnered individuals tend to purchase treadmills more frequently than singles across all product categories. This suggests that marketing campaigns targeting couples and families could be effective in increasing sales. Highlighting fitness as a family activity or bundling offers for multiple users might enhance appeal.\n",
        "\n",
        "Additionally, the company should consider an upgrade plan. As customers' age, income, and fitness levels increase, those who initially purchase entry-level or mid-range models may eventually be willing to invest in a premium treadmill. Offering trade-in discounts or loyalty programs for existing customers can create long-term engagement and brand loyalty.\n",
        "\n",
        "Overall, the company should refine its product positioning and marketing strategies to align with customer preferences. Targeted promotions for young adults for entry-level models, value-driven messaging for mid-range buyers, and premium customization for high-income fitness enthusiasts will ensure continued revenue growth. Expanding product appeal based on gender insights and creating upgrade incentives will further strengthen customer retention and market positioning."
      ],
      "metadata": {
        "id": "QwFov5f4sSPB"
      }
    },
    {
      "cell_type": "markdown",
      "source": [
        "Downloading Data, view the attributes and create a statistical Summary."
      ],
      "metadata": {
        "id": "nSdfy-ihEaX0"
      }
    },
    {
      "cell_type": "code",
      "source": [
        "\n",
        "import numpy as np\n",
        "import pandas as pd\n",
        "import seaborn as sns\n",
        "import matplotlib.pyplot as plt\n",
        "!wget -O aerofit_treadmill.csv \"https://d2beiqkhq929f0.cloudfront.net/public_assets/assets/000/001/125/original/aerofit_treadmill.csv?1639992749\"\n",
        "df = pd.read_csv(\"aerofit_treadmill.csv\")\n",
        "df.head()"
      ],
      "metadata": {
        "id": "40z0QSP5l0cb"
      },
      "execution_count": null,
      "outputs": []
    },
    {
      "cell_type": "code",
      "source": [
        "df.info()"
      ],
      "metadata": {
        "id": "2znQx-IY6qLg"
      },
      "execution_count": null,
      "outputs": []
    },
    {
      "cell_type": "code",
      "source": [
        "df.shape"
      ],
      "metadata": {
        "id": "QQm7CONC6rz2"
      },
      "execution_count": null,
      "outputs": []
    },
    {
      "cell_type": "code",
      "source": [
        "df.isnull().sum()"
      ],
      "metadata": {
        "id": "kekDYGtP7pVI"
      },
      "execution_count": null,
      "outputs": []
    },
    {
      "cell_type": "code",
      "source": [
        "df.value_counts().unstack()"
      ],
      "metadata": {
        "id": "BY-QgUYV6xG7"
      },
      "execution_count": null,
      "outputs": []
    },
    {
      "cell_type": "code",
      "source": [
        "df['Fitness'].value_counts()"
      ],
      "metadata": {
        "id": "DOw8u5Sw2xwo"
      },
      "execution_count": null,
      "outputs": []
    },
    {
      "cell_type": "code",
      "source": [
        "df['Product'].value_counts()"
      ],
      "metadata": {
        "id": "xoAmScRxJbw3"
      },
      "execution_count": null,
      "outputs": []
    },
    {
      "cell_type": "code",
      "source": [
        "income_stats = df.groupby('Product')['Income'].agg(['count', 'mean', 'median'])\n",
        "income_stats"
      ],
      "metadata": {
        "id": "1JyDOruqKwgI"
      },
      "execution_count": null,
      "outputs": []
    },
    {
      "cell_type": "code",
      "source": [
        "plt.figure(figsize=(8, 5))\n",
        "sns.histplot(df['Income'], kde=True, bins=30, color='blue')\n",
        "plt.title(\"Income Distribution\")\n",
        "plt.xlabel(\"Income\")\n",
        "plt.ylabel(\"Frequency\")\n",
        "plt.show()"
      ],
      "metadata": {
        "id": "dJpQqF_3CwbF"
      },
      "execution_count": null,
      "outputs": []
    },
    {
      "cell_type": "markdown",
      "source": [
        "<font color='red'>\n",
        "Visual Analysis - Univariate & Bivariate (30 Points)\n",
        "For continuous variable(s): Distplot, countplot, histogram for univariate analysis (10 Points)\n",
        "For categorical variable(s): Boxplot (10 Points)\n",
        "# For correlation: Heatmaps, Pairplots(10 Points)\n",
        "</font>\n",
        "\n",
        "\n",
        "We can infer that there are 3 continious variables - Age, Income and Miles.\n",
        "\n",
        "\n"
      ],
      "metadata": {
        "id": "f_bC1V57ECYO"
      }
    },
    {
      "cell_type": "code",
      "source": [],
      "metadata": {
        "id": "gMmEJdCeB7TL"
      },
      "execution_count": null,
      "outputs": []
    },
    {
      "cell_type": "code",
      "source": [
        "age_stats = df.groupby('Product')['Age'].agg(['mean','median'])\n",
        "age_stats"
      ],
      "metadata": {
        "id": "Yf0AUeQPK1gR"
      },
      "execution_count": null,
      "outputs": []
    },
    {
      "cell_type": "code",
      "source": [
        "plt.figure(figsize=(8, 5))\n",
        "sns.histplot(df['Age'], kde=True, bins=30, color='blue')\n",
        "plt.title(\"Age Distribution\")\n",
        "plt.xlabel(\"Age\")\n",
        "plt.ylabel(\"Frequency\")\n",
        "plt.show()"
      ],
      "metadata": {
        "id": "g2P8z_eKFQPb"
      },
      "execution_count": null,
      "outputs": []
    },
    {
      "cell_type": "code",
      "source": [
        "usage_stats = df.groupby('Product')['Miles'].agg(['mean','median'])\n",
        "usage_stats"
      ],
      "metadata": {
        "id": "brAeqowUL9QV"
      },
      "execution_count": null,
      "outputs": []
    },
    {
      "cell_type": "code",
      "source": [
        "plt.figure(figsize=(8, 5))\n",
        "sns.histplot(df['Miles'], kde=True, bins=30, color='blue')\n",
        "plt.title(\"Miles Distribution Histogram\")\n",
        "plt.xlabel(\"Miles Run/Walked per Week\")\n",
        "plt.ylabel(\"Frequency\")\n",
        "plt.show()"
      ],
      "metadata": {
        "id": "uLHp8v4lFa7i"
      },
      "execution_count": null,
      "outputs": []
    },
    {
      "cell_type": "code",
      "source": [
        "marital_stats = df.groupby(['Product', 'MaritalStatus']).size().unstack()\n",
        "marital_stats"
      ],
      "metadata": {
        "id": "3n1tPd61Mrnf"
      },
      "execution_count": null,
      "outputs": []
    },
    {
      "cell_type": "code",
      "source": [
        "fitness_stats = df.groupby(['Product', 'Fitness']).size().unstack()\n",
        "fitness_stats"
      ],
      "metadata": {
        "id": "GSHDNWpGMxlk"
      },
      "execution_count": null,
      "outputs": []
    },
    {
      "cell_type": "code",
      "source": [
        "edu_stats = df.groupby(['Product', 'Education']).size().unstack()\n",
        "edu_stats"
      ],
      "metadata": {
        "id": "a9XLVAeQNrv0"
      },
      "execution_count": null,
      "outputs": []
    },
    {
      "cell_type": "code",
      "source": [
        "gender_stats = df.groupby(['Product', 'Gender']).size().unstack()\n",
        "gender_stats.columns = ['Male Customers', 'Female Customers']\n",
        "print(gender_stats)\n"
      ],
      "metadata": {
        "id": "HSmrkIJEpdDv"
      },
      "execution_count": null,
      "outputs": []
    },
    {
      "cell_type": "code",
      "source": [
        "summary_stats = income_stats.merge(age_stats, on='Product')\n",
        "summary_stats = summary_stats.merge(usage_stats, on='Product')\n",
        "summary_stats = summary_stats.merge(marital_stats, on='Product')\n",
        "summary_stats = summary_stats.merge(fitness_stats, on='Product')\n",
        "summary_stats\n"
      ],
      "metadata": {
        "id": "IBCboQflOiG3"
      },
      "execution_count": null,
      "outputs": []
    },
    {
      "cell_type": "code",
      "source": [
        "summary_stats.columns = ['Total Customers', 'MeanIncome', 'MedianIncome',\n",
        "                         'MeanAge', 'MedianAge', 'MeanUsage', 'MedianUsage','SingleCust', 'PartneredCust','fit1','fit2','fit3','fit4', 'fit5']\n",
        "summary_stats"
      ],
      "metadata": {
        "id": "ge332VCaPzOY"
      },
      "execution_count": null,
      "outputs": []
    },
    {
      "cell_type": "code",
      "source": [
        "numerical_columns = ['Income', 'Age']\n",
        "summary = df[numerical_columns].describe()\n",
        "fig, axes = plt.subplots(1, 2, figsize=(15, 5))\n",
        "for i, col in enumerate(numerical_columns):\n",
        "    sns.boxplot(y=df[col], ax=axes[i])\n",
        "    axes[i].set_title(f'Boxplot of {col}')\n",
        "\n",
        "plt.tight_layout()\n",
        "plt.show()"
      ],
      "metadata": {
        "id": "gfszCVzcSA3P"
      },
      "execution_count": null,
      "outputs": []
    },
    {
      "cell_type": "code",
      "source": [],
      "metadata": {
        "id": "zvJp4J1ESgBj"
      },
      "execution_count": null,
      "outputs": []
    },
    {
      "cell_type": "code",
      "source": [
        "plt.figure(figsize=(8, 5))\n",
        "sns.boxplot(data=df, x=\"Product\", y=\"Age\")\n",
        "plt.title(\"Age Distribution Across Products\")\n",
        "plt.xlabel(\"Product Purchased\")\n",
        "plt.ylabel(\"Age\")\n",
        "plt.show()"
      ],
      "metadata": {
        "id": "B6wpuvUZTgc7"
      },
      "execution_count": null,
      "outputs": []
    },
    {
      "cell_type": "code",
      "source": [
        "plt.figure(figsize=(8, 5))\n",
        "sns.countplot(data=df, x=\"Product\", hue=\"MaritalStatus\")\n",
        "plt.title(\"Marital Status Distribution Across Products\")\n",
        "plt.xlabel(\"Product Purchased\")\n",
        "plt.ylabel(\"Count\")\n",
        "plt.legend(title=\"Marital Status\")\n",
        "plt.show()"
      ],
      "metadata": {
        "id": "GZg8rvJ6T0-H"
      },
      "execution_count": null,
      "outputs": []
    },
    {
      "cell_type": "code",
      "source": [
        "# df['Product'] = df['Product'].astype('category').cat.codes\n",
        "# correlation_matrix = df[['Income', 'Age', 'Product']].corr()\n",
        "# plt.figure(figsize=(6, 5))\n",
        "# sns.heatmap(correlation_matrix, annot=True, cmap='coolwarm', fmt=\".2f\", linewidths=0.5)\n",
        "# plt.title(\"Correlation Between Income, Age, and Product\")\n",
        "# plt.show()"
      ],
      "metadata": {
        "id": "9lG6TCSUU0GP"
      },
      "execution_count": null,
      "outputs": []
    },
    {
      "cell_type": "code",
      "source": [
        "correlation_matrix = df[['Income', 'Age', 'Product']].corr()\n",
        "print(correlation_matrix)"
      ],
      "metadata": {
        "id": "m3Ajg0rnVQxZ"
      },
      "execution_count": null,
      "outputs": []
    },
    {
      "cell_type": "markdown",
      "source": [
        "<font color='red'>\n",
        "4.Representing the marginal probability like - what percent of customers have purchased KP281, KP481, or KP781 in a table (can use pandas.crosstab here)\n",
        "</font>\n",
        "\n"
      ],
      "metadata": {
        "id": "F7ggFaUyWG16"
      }
    },
    {
      "cell_type": "code",
      "source": [
        "product_counts = df['Product'].value_counts(normalize=True) * 100\n",
        "marginal_probabilities = pd.DataFrame({'Product': product_counts.index, 'Percentage of Customers': product_counts.values})\n",
        "marginal_probabilities"
      ],
      "metadata": {
        "id": "mtKcEj1EWF95"
      },
      "execution_count": null,
      "outputs": []
    },
    {
      "cell_type": "code",
      "source": [
        "import pandas as pd\n",
        "\n",
        "\n",
        "url = \"https://d2beiqkhq929f0.cloudfront.net/public_assets/assets/000/001/125/original/aerofit_treadmill.csv?1639992749\"\n",
        "df = pd.read_csv(url)\n",
        "\n",
        "\n",
        "product_prices = {\n",
        "    'KP281': 1500,\n",
        "    'KP481': 1750,\n",
        "    'KP781': 2500\n",
        "}\n",
        "\n",
        "\n",
        "df['Revenue'] = df['Product'].map(product_prices)\n",
        "actual_revenue = df.groupby('Product')['Revenue'].sum().reset_index()\n",
        "actual_revenue.columns = ['Product', 'Total Revenue ($)']\n",
        "print(actual_revenue)\n"
      ],
      "metadata": {
        "id": "SSQi8yUdX0gy"
      },
      "execution_count": null,
      "outputs": []
    },
    {
      "cell_type": "code",
      "source": [
        "Check correlation among different factors using heat maps or pair plots."
      ],
      "metadata": {
        "id": "fxg-KS_RZrMK"
      },
      "execution_count": null,
      "outputs": []
    },
    {
      "cell_type": "code",
      "source": [
        "df['Product'] = df['Product'].astype('category').cat.codes\n",
        "correlation_matrix = df[['Income', 'Age', 'Product']].corr()\n",
        "plt.figure(figsize=(6, 5))\n",
        "sns.heatmap(correlation_matrix, annot=True, cmap='coolwarm', fmt=\".2f\", linewidths=0.5)\n",
        "plt.title(\"Correlation Between Income, Age, and Product\")\n",
        "plt.show()"
      ],
      "metadata": {
        "id": "KeDQ1yPDZyKQ"
      },
      "execution_count": null,
      "outputs": []
    },
    {
      "cell_type": "code",
      "source": [],
      "metadata": {
        "id": "TVx1p9a-apUX"
      },
      "execution_count": null,
      "outputs": []
    },
    {
      "cell_type": "code",
      "source": [
        "\n",
        "\n",
        "# Convert categorical attributes\n",
        "df['Product'] = df['Product'].astype('category').cat.codes\n",
        "df['Gender'] = df['Gender'].astype('category').cat.codes\n",
        "df['MaritalStatus'] = df['MaritalStatus'].astype('category').cat.codes\n",
        "\n",
        "# Filter data\n",
        "kp281_data = df[df['Product'] == 0]  # KP281\n",
        "kp481_data = df[df['Product'] == 1]  # KP481\n",
        "kp781_data = df[df['Product'] == 2]  # KP781\n",
        "\n",
        "# Compute correlation matrices\n",
        "kp281_correlation = kp281_data[['Age', 'Income', 'Gender', 'Fitness', 'Usage', 'Miles', 'MaritalStatus']].corr()\n",
        "kp481_correlation = kp481_data[['Age', 'Income', 'Gender', 'Fitness', 'Usage', 'Miles', 'MaritalStatus']].corr()\n",
        "kp781_correlation = kp781_data[['Age', 'Income', 'Gender', 'Fitness', 'Usage', 'Miles', 'MaritalStatus']].corr()\n",
        "\n",
        "# Plot heatmaps\n",
        "plt.figure(figsize=(8, 6))\n",
        "sns.heatmap(kp281_correlation, annot=True, cmap='coolwarm', fmt=\".2f\", linewidths=0.5)\n",
        "plt.title(\"Correlation Heatmap for KP281 (Entry-Level Treadmill)\")\n",
        "plt.show()\n",
        "\n",
        "plt.figure(figsize=(8, 6))\n",
        "sns.heatmap(kp481_correlation, annot=True, cmap='coolwarm', fmt=\".2f\", linewidths=0.5)\n",
        "plt.title(\"Correlation Heatmap for KP481 (Mid-Level Treadmill)\")\n",
        "plt.show()\n",
        "\n",
        "plt.figure(figsize=(8, 6))\n",
        "sns.heatmap(kp781_correlation, annot=True, cmap='coolwarm', fmt=\".2f\", linewidths=0.5)\n",
        "plt.title(\"Correlation Heatmap for KP781 (Premium Treadmill)\")\n",
        "plt.show()\n",
        "df['Income Category'] = pd.cut(df['Income'], bins=[0, 40000, 70000, 100000, float('inf')],\n",
        "                               labels=['Low Income', 'Middle Income', 'Upper Middle Income', 'High Income'])\n",
        "\n",
        "df['Age Group'] = pd.cut(df['Age'], bins=[0, 25, 40, 60, float('inf')],\n",
        "                         labels=['Young Adult', 'Middle Aged', 'Older Adult', 'Senior'])\n",
        "\n",
        "df['Fitness Level'] = pd.cut(df['Fitness'], bins=[0, 2, 4, 5],\n",
        "                             labels=['Low Fitness', 'Moderate Fitness', 'High Fitness'])\n",
        "\n",
        "df['Usage Category'] = pd.cut(df['Usage'], bins=[0, 2, 5, float('inf')],\n",
        "                              labels=['Low Usage', 'Moderate Usage', 'High Usage'])\n",
        "\n",
        "customer_profiles = df.groupby(['Product', 'Income Category', 'Age Group', 'Fitness Level', 'Usage Category']).size().reset_index(name='Count')\n",
        "print(customer_profiles)\n",
        "\n",
        "\n",
        "\n",
        "\n"
      ],
      "metadata": {
        "id": "iuJJrZzZqasX"
      },
      "execution_count": null,
      "outputs": []
    },
    {
      "cell_type": "code",
      "source": [
        "fitness_unique_counts = df['Fitness Level'].value_counts().reset_index()\n",
        "fitness_unique_counts.columns = ['Fitness Level', 'Count']\n",
        "fitness_unique_counts"
      ],
      "metadata": {
        "id": "BFaDH5Tp2U66"
      },
      "execution_count": null,
      "outputs": []
    },
    {
      "cell_type": "code",
      "source": [
        "\n",
        "\n"
      ],
      "metadata": {
        "id": "EqYwpvMi3a-R"
      },
      "execution_count": null,
      "outputs": []
    },
    {
      "cell_type": "code",
      "source": [
        "\n",
        "df['FitnessLevel'] = pd.cut(df['Fitness'], bins=[0, 2, 3, 5],\n",
        "                             labels=['LowFit', 'ModerateFit', 'HighFit'], right=True)\n",
        "product_mapping = {\n",
        "    0: 'KP281',\n",
        "    1: 'KP481',\n",
        "    2: 'KP781'\n",
        "}\n",
        "df['Product'] = df['Product'].astype('category').cat.codes\n",
        "df['ProductName'] = df['Product'].map(product_mapping)\n",
        "fitness_product_distribution = df.groupby(['ProductName', 'FitnessLevel'], observed=True).size().unstack().reset_index()\n",
        "\n",
        "print(fitness_product_distribution)\n"
      ],
      "metadata": {
        "id": "QACzXELj4fFB"
      },
      "execution_count": null,
      "outputs": []
    }
  ]
}