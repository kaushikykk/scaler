{
  "nbformat": 4,
  "nbformat_minor": 0,
  "metadata": {
    "colab": {
      "private_outputs": true,
      "provenance": [],
      "authorship_tag": "ABX9TyNnk7WqaOovktmk1oTXC1lX",
      "include_colab_link": true
    },
    "kernelspec": {
      "name": "python3",
      "display_name": "Python 3"
    },
    "language_info": {
      "name": "python"
    }
  },
  "cells": [
    {
      "cell_type": "markdown",
      "metadata": {
        "id": "view-in-github",
        "colab_type": "text"
      },
      "source": [
        "<a href=\"https://colab.research.google.com/github/kaushikykk/scaler/blob/main/BusinessCaseAerofitProbAndStats.ipynb\" target=\"_parent\"><img src=\"https://colab.research.google.com/assets/colab-badge.svg\" alt=\"Open In Colab\"/></a>"
      ]
    },
    {
      "cell_type": "markdown",
      "source": [
        "# **BusinesCase2 AeroFit:**\n",
        "I will analyze AeroFit's customer data to identify patterns in treadmill purchases across its three models. Using demographic attributes like age, income, marital status, fitness level, and treadmill usage, I aim to profile customers and develop a data-driven marketing strategy to optimize recommendations and drive sales.\n",
        "\n",
        "I will begin with descriptive analytics to summarize key metrics like mean, median, and distribution across customer attributes, perform Outlier detection using boxplots and statistical measures to ensure data accuracy. Use Categorical analysis with countplots, histograms, and cross-tabulations to help identify trends in customer demographics and treadmill purchases. Observe Correlations using heatmaps and pair plots to map relationships between factors like income, fitness level, and treadmill preference. Finally, I will compute marginal and conditional probabilities to assess purchase likelihood and derive actionable insights for targeted marketing and product positioning."
      ],
      "metadata": {
        "id": "QwFov5f4sSPB"
      }
    },
    {
      "cell_type": "markdown",
      "source": [
        "<font color='red'>\n",
        "Observations on shape of data, data types of all the attributes, conversion of categorical attributes to 'category' (If required), statistical summary?\n",
        "</font>\n",
        "\n",
        "Downloading Data, view the attributes and create a statistical Summary."
      ],
      "metadata": {
        "id": "nSdfy-ihEaX0"
      }
    },
    {
      "cell_type": "code",
      "source": [
        "\n",
        "import numpy as np\n",
        "import pandas as pd\n",
        "import seaborn as sns\n",
        "import matplotlib.pyplot as plt\n",
        "!wget -O aerofit_treadmill.csv \"https://d2beiqkhq929f0.cloudfront.net/public_assets/assets/000/001/125/original/aerofit_treadmill.csv?1639992749\"\n",
        "df = pd.read_csv(\"aerofit_treadmill.csv\")\n",
        "df.head()"
      ],
      "metadata": {
        "id": "40z0QSP5l0cb"
      },
      "execution_count": null,
      "outputs": []
    },
    {
      "cell_type": "code",
      "source": [
        "df.info()"
      ],
      "metadata": {
        "id": "bZu3NzCmqwKR"
      },
      "execution_count": null,
      "outputs": []
    },
    {
      "cell_type": "markdown",
      "source": [],
      "metadata": {
        "id": "LdLfQ6VXsMNN"
      }
    },
    {
      "cell_type": "markdown",
      "source": [],
      "metadata": {
        "id": "efOuvwXLsO6N"
      }
    }
  ]
}