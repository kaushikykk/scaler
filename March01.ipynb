{
  "nbformat": 4,
  "nbformat_minor": 0,
  "metadata": {
    "colab": {
      "private_outputs": true,
      "provenance": [],
      "authorship_tag": "ABX9TyOPvHUcGSiXC3xSKLfkwX5q",
      "include_colab_link": true
    },
    "kernelspec": {
      "name": "python3",
      "display_name": "Python 3"
    },
    "language_info": {
      "name": "python"
    }
  },
  "cells": [
    {
      "cell_type": "markdown",
      "metadata": {
        "id": "view-in-github",
        "colab_type": "text"
      },
      "source": [
        "<a href=\"https://colab.research.google.com/github/kaushikykk/scaler/blob/main/March01.ipynb\" target=\"_parent\"><img src=\"https://colab.research.google.com/assets/colab-badge.svg\" alt=\"Open In Colab\"/></a>"
      ]
    },
    {
      "cell_type": "code",
      "execution_count": null,
      "metadata": {
        "id": "wQo9KmAaXwPK"
      },
      "outputs": [],
      "source": []
    },
    {
      "cell_type": "code",
      "source": [
        "from scipy.stats import expon, poisson, geom\n",
        "import numpy as np\n",
        "import matplotlib.pyplot as plt\n",
        "import pandas as pd\n",
        "\n",
        "\n",
        "scale = 5\n",
        "\n",
        "expon.cdf(6, scale=scale)\n"
      ],
      "metadata": {
        "id": "qTiGl9yyYqpZ"
      },
      "execution_count": null,
      "outputs": []
    },
    {
      "cell_type": "markdown",
      "source": [
        "Scipy Boxcox\n",
        "plot - Maximum likelehod estimation"
      ],
      "metadata": {
        "id": "uFyvZrsAaQXe"
      }
    },
    {
      "cell_type": "code",
      "source": [
        "from scipy.stats import boxcox\n",
        "import seaborn as sns\n",
        "\n",
        "np.random.seed(0)\n",
        "\n",
        "data = np.random.exponential(size=1000)\n",
        "\n",
        "sns.histplot(data)"
      ],
      "metadata": {
        "id": "HcQ5h_qqaCFc"
      },
      "execution_count": null,
      "outputs": []
    },
    {
      "cell_type": "code",
      "source": [
        "sns.displot(data, kde=True)"
      ],
      "metadata": {
        "id": "cvgsAqQreCUC"
      },
      "execution_count": null,
      "outputs": []
    },
    {
      "cell_type": "code",
      "source": [
        "transformed_data, best_lambda = boxcox(data)\n",
        "\n",
        "best_lambda"
      ],
      "metadata": {
        "id": "TlRiARfheW9r"
      },
      "execution_count": null,
      "outputs": []
    },
    {
      "cell_type": "code",
      "source": [
        "sns.distplot(transformed_data)"
      ],
      "metadata": {
        "id": "CDwPmU_Le0c5"
      },
      "execution_count": null,
      "outputs": []
    },
    {
      "cell_type": "code",
      "source": [
        "sns.distplot(np.log(data))"
      ],
      "metadata": {
        "id": "y5xnIoM4fFc4"
      },
      "execution_count": null,
      "outputs": []
    },
    {
      "cell_type": "code",
      "source": [
        "# prompt: Q1. Probability of getting heads  using a biased coin of 30%\n",
        "# P(s) = 0.3\n",
        "# attemts = 2\n",
        "# pmf as we are trying for a discrete 2nd attempt\n",
        "\n",
        "from scipy.stats import binom\n",
        "\n",
        "# Probability of getting heads (success)\n",
        "p = 0.3\n",
        "\n",
        "# Number of attempts (trials)\n",
        "n = 2\n",
        "\n",
        "# Probability Mass Function (PMF) for getting exactly k heads in n trials\n",
        "# We are interested in the probability of getting exactly 2 heads\n",
        "k = 2\n",
        "\n",
        "# Calculate the probability\n",
        "probability = binom.pmf(k, n, p)\n",
        "\n",
        "print(f\"The probability of getting exactly 2 heads in 2 attempts is: {probability}\")\n"
      ],
      "metadata": {
        "id": "vNKMzpacaDr9"
      },
      "execution_count": null,
      "outputs": []
    },
    {
      "cell_type": "code",
      "source": [
        "geom.pmf(1, p=0.2)"
      ],
      "metadata": {
        "id": "O058MX5Fa_e5"
      },
      "execution_count": null,
      "outputs": []
    },
    {
      "cell_type": "code",
      "source": [
        "geom.cdf(1, p=0.2)"
      ],
      "metadata": {
        "id": "aOVB1zDHcQy8"
      },
      "execution_count": null,
      "outputs": []
    },
    {
      "cell_type": "code",
      "source": [
        "expon.cdf(4, scale=5)"
      ],
      "metadata": {
        "id": "Xzpx2krAIdvC"
      },
      "execution_count": null,
      "outputs": []
    },
    {
      "cell_type": "code",
      "source": [
        "expon.cdf(5, scale=5)"
      ],
      "metadata": {
        "id": "xZaT_M4RLiXi"
      },
      "execution_count": null,
      "outputs": []
    },
    {
      "cell_type": "code",
      "source": [
        "expon.cdf(5, scale=5) - expon.cdf(4, scale=5)"
      ],
      "metadata": {
        "id": "VAWbTaewLnqk"
      },
      "execution_count": null,
      "outputs": []
    },
    {
      "cell_type": "code",
      "source": [
        "expon.cdf(600, scale=1000)"
      ],
      "metadata": {
        "id": "wN4cGQdwMUNR"
      },
      "execution_count": null,
      "outputs": []
    },
    {
      "cell_type": "markdown",
      "source": [],
      "metadata": {
        "id": "KOGdKHFRMT46"
      }
    }
  ]
}