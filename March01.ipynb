{
  "nbformat": 4,
  "nbformat_minor": 0,
  "metadata": {
    "colab": {
      "private_outputs": true,
      "provenance": [],
      "authorship_tag": "ABX9TyOk8rprEyMOhNNz7HNJkMgT",
      "include_colab_link": true
    },
    "kernelspec": {
      "name": "python3",
      "display_name": "Python 3"
    },
    "language_info": {
      "name": "python"
    }
  },
  "cells": [
    {
      "cell_type": "markdown",
      "metadata": {
        "id": "view-in-github",
        "colab_type": "text"
      },
      "source": [
        "<a href=\"https://colab.research.google.com/github/kaushikykk/scaler/blob/main/March01.ipynb\" target=\"_parent\"><img src=\"https://colab.research.google.com/assets/colab-badge.svg\" alt=\"Open In Colab\"/></a>"
      ]
    },
    {
      "cell_type": "code",
      "execution_count": null,
      "metadata": {
        "id": "wQo9KmAaXwPK"
      },
      "outputs": [],
      "source": []
    },
    {
      "cell_type": "code",
      "source": [
        "from scipy.stats import expon, poisson, geom\n",
        "import numpy as np\n",
        "import matplotlib.pyplot as plt\n",
        "import pandas as pd\n",
        "\n",
        "\n",
        "scale = 5\n",
        "\n",
        "expon.cdf(6, scale=scale)\n"
      ],
      "metadata": {
        "id": "qTiGl9yyYqpZ"
      },
      "execution_count": null,
      "outputs": []
    },
    {
      "cell_type": "markdown",
      "source": [
        "Scipy Boxcox\n",
        "plot - Maximum likelehod estimation"
      ],
      "metadata": {
        "id": "uFyvZrsAaQXe"
      }
    },
    {
      "cell_type": "code",
      "source": [
        "from scipy.stats import boxcox\n",
        "import seaborn as sns\n",
        "\n",
        "np.random.seed(0)\n",
        "\n",
        "data = np.random.exponential(size=1000)\n",
        "\n",
        "sns.histplot(data)"
      ],
      "metadata": {
        "id": "HcQ5h_qqaCFc"
      },
      "execution_count": null,
      "outputs": []
    },
    {
      "cell_type": "code",
      "source": [
        "sns.displot(data, kde=True)"
      ],
      "metadata": {
        "id": "cvgsAqQreCUC"
      },
      "execution_count": null,
      "outputs": []
    },
    {
      "cell_type": "code",
      "source": [
        "transformed_data, best_lambda = boxcox(data)\n",
        "\n",
        "best_lambda"
      ],
      "metadata": {
        "id": "TlRiARfheW9r"
      },
      "execution_count": null,
      "outputs": []
    },
    {
      "cell_type": "code",
      "source": [
        "sns.distplot(transformed_data)"
      ],
      "metadata": {
        "id": "CDwPmU_Le0c5"
      },
      "execution_count": null,
      "outputs": []
    },
    {
      "cell_type": "code",
      "source": [
        "sns.distplot(np.log(data))"
      ],
      "metadata": {
        "id": "y5xnIoM4fFc4"
      },
      "execution_count": null,
      "outputs": []
    }
  ]
}