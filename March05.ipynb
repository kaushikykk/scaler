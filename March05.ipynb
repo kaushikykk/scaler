{
  "nbformat": 4,
  "nbformat_minor": 0,
  "metadata": {
    "colab": {
      "private_outputs": true,
      "provenance": [],
      "authorship_tag": "ABX9TyNipE5s4f0sSMfb3JOVvmLh",
      "include_colab_link": true
    },
    "kernelspec": {
      "name": "python3",
      "display_name": "Python 3"
    },
    "language_info": {
      "name": "python"
    }
  },
  "cells": [
    {
      "cell_type": "markdown",
      "metadata": {
        "id": "view-in-github",
        "colab_type": "text"
      },
      "source": [
        "<a href=\"https://colab.research.google.com/github/kaushikykk/scaler/blob/main/March05.ipynb\" target=\"_parent\"><img src=\"https://colab.research.google.com/assets/colab-badge.svg\" alt=\"Open In Colab\"/></a>"
      ]
    },
    {
      "cell_type": "code",
      "execution_count": null,
      "metadata": {
        "id": "BDOIKjNbCxMT"
      },
      "outputs": [],
      "source": [
        "from scipy.stats import expon, poisson, geom, binom\n",
        "import numpy as np\n",
        "import matplotlib.pyplot as plt\n",
        "from scipy.stats import expon, poisson, geom, binom\n",
        "import numpy as np\n",
        "import matplotlib.pyplot as plt\n",
        "import pandas as pd\n",
        "\n",
        "binom.cdf(k=6, n=20, p=0.1)"
      ]
    },
    {
      "cell_type": "code",
      "source": [
        "binom.pmf(k=5, n=20, p=0.1)"
      ],
      "metadata": {
        "id": "m1vU6Qz1F-Hu"
      },
      "execution_count": null,
      "outputs": []
    },
    {
      "cell_type": "markdown",
      "source": [],
      "metadata": {
        "id": "6FCGIQZiF90y"
      }
    },
    {
      "cell_type": "code",
      "source": [],
      "metadata": {
        "id": "q2hq5hxQGIc3"
      },
      "execution_count": null,
      "outputs": []
    },
    {
      "cell_type": "markdown",
      "source": [],
      "metadata": {
        "id": "73YE_C3fFDj4"
      }
    }
  ]
}